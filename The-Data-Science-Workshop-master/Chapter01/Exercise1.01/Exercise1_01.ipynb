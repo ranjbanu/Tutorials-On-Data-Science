{
  "nbformat": 4,
  "nbformat_minor": 0,
  "metadata": {
    "colab": {
      "name": "Exercise1_01.ipynb",
      "provenance": [],
      "collapsed_sections": []
    },
    "kernelspec": {
      "name": "python3",
      "display_name": "Python 3"
    }
  },
  "cells": [
    {
      "cell_type": "code",
      "metadata": {
        "id": "VvyjASrX8ioW",
        "colab_type": "code",
        "colab": {}
      },
      "source": [
        "algorithm = ['Linear Regression', 'Logistic Regression', 'RandomForest', 'a3c']"
      ],
      "execution_count": 0,
      "outputs": []
    },
    {
      "cell_type": "code",
      "metadata": {
        "id": "RyYIgCN28_P0",
        "colab_type": "code",
        "colab": {}
      },
      "source": [
        "learning = ['Supervised', 'Supervised', 'Supervised', 'Reinforcement']"
      ],
      "execution_count": 0,
      "outputs": []
    },
    {
      "cell_type": "code",
      "metadata": {
        "id": "ZEqFtWds9JFy",
        "colab_type": "code",
        "colab": {}
      },
      "source": [
        "algorithm_type = ['Regression', 'Classification', 'Regression or Classification', 'Game AI']"
      ],
      "execution_count": 0,
      "outputs": []
    },
    {
      "cell_type": "code",
      "metadata": {
        "id": "nBjdkC8F-M6f",
        "colab_type": "code",
        "colab": {}
      },
      "source": [
        "algorithm.append('k-means')"
      ],
      "execution_count": 0,
      "outputs": []
    },
    {
      "cell_type": "code",
      "metadata": {
        "id": "6Bc-Nys6-f9X",
        "colab_type": "code",
        "outputId": "2e659ba1-0233-4b1a-c21a-0d24a571340c",
        "colab": {
          "base_uri": "https://localhost:8080/",
          "height": 34
        }
      },
      "source": [
        "print(algorithm)"
      ],
      "execution_count": 0,
      "outputs": [
        {
          "output_type": "stream",
          "text": [
            "['Linear Regression', 'Logistic Regression', 'RandomForest', 'a3c', 'k-means']\n"
          ],
          "name": "stdout"
        }
      ]
    },
    {
      "cell_type": "code",
      "metadata": {
        "id": "bPoVJ0gA-Yq0",
        "colab_type": "code",
        "colab": {}
      },
      "source": [
        "learning.append('Unsupervised')"
      ],
      "execution_count": 0,
      "outputs": []
    },
    {
      "cell_type": "code",
      "metadata": {
        "id": "NueuDyh--iRC",
        "colab_type": "code",
        "outputId": "c4efc760-f567-4441-9c3e-a99485b7ab5e",
        "colab": {
          "base_uri": "https://localhost:8080/",
          "height": 34
        }
      },
      "source": [
        "print(learning)"
      ],
      "execution_count": 0,
      "outputs": [
        {
          "output_type": "stream",
          "text": [
            "['Supervised', 'Supervised', 'Supervised', 'Reinforcement', 'Unsupervised']\n"
          ],
          "name": "stdout"
        }
      ]
    },
    {
      "cell_type": "code",
      "metadata": {
        "id": "Z6GfEOi4-Yxl",
        "colab_type": "code",
        "colab": {}
      },
      "source": [
        "algorithm_type.append('Clustering')"
      ],
      "execution_count": 0,
      "outputs": []
    },
    {
      "cell_type": "code",
      "metadata": {
        "id": "06CEQM6A-ldI",
        "colab_type": "code",
        "outputId": "688bf554-04cb-440f-c04d-80e9ea03571b",
        "colab": {
          "base_uri": "https://localhost:8080/",
          "height": 34
        }
      },
      "source": [
        "print(algorithm_type)"
      ],
      "execution_count": 0,
      "outputs": [
        {
          "output_type": "stream",
          "text": [
            "['Regression', 'Classification', 'Regression or Classification', 'Game AI', 'Clustering']\n"
          ],
          "name": "stdout"
        }
      ]
    },
    {
      "cell_type": "code",
      "metadata": {
        "id": "6Toy0a4y-qMa",
        "colab_type": "code",
        "colab": {}
      },
      "source": [
        "machine_learning = {}"
      ],
      "execution_count": 0,
      "outputs": []
    },
    {
      "cell_type": "code",
      "metadata": {
        "id": "a0p_KDXJ-68D",
        "colab_type": "code",
        "colab": {}
      },
      "source": [
        "machine_learning['algorithm'] = algorithm"
      ],
      "execution_count": 0,
      "outputs": []
    },
    {
      "cell_type": "code",
      "metadata": {
        "id": "hb48dYN_-_hu",
        "colab_type": "code",
        "outputId": "4ca37e06-6de8-4681-ad6f-06cd84a3cc19",
        "colab": {
          "base_uri": "https://localhost:8080/",
          "height": 34
        }
      },
      "source": [
        "print(machine_learning)"
      ],
      "execution_count": 0,
      "outputs": [
        {
          "output_type": "stream",
          "text": [
            "{'algorithm': ['Linear Regression', 'Logistic Regression', 'RandomForest', 'a3c', 'k-means']}\n"
          ],
          "name": "stdout"
        }
      ]
    },
    {
      "cell_type": "code",
      "metadata": {
        "id": "2h3CZGxe_CmY",
        "colab_type": "code",
        "colab": {}
      },
      "source": [
        "machine_learning['learning'] = learning"
      ],
      "execution_count": 0,
      "outputs": []
    },
    {
      "cell_type": "code",
      "metadata": {
        "id": "Clilnrf9_GrS",
        "colab_type": "code",
        "colab": {}
      },
      "source": [
        "machine_learning['algorithm_type'] = algorithm_type"
      ],
      "execution_count": 0,
      "outputs": []
    },
    {
      "cell_type": "code",
      "metadata": {
        "id": "SF8j6lU4E5bN",
        "colab_type": "code",
        "outputId": "cd12c38e-2e2c-416a-f85d-eaca4445421c",
        "colab": {
          "base_uri": "https://localhost:8080/",
          "height": 54
        }
      },
      "source": [
        "print(machine_learning)"
      ],
      "execution_count": 0,
      "outputs": [
        {
          "output_type": "stream",
          "text": [
            "{'algorithm': ['Linear Regression', 'Logistic Regression', 'RandomForest', 'k-means'], 'learning': ['Supervised', 'Supervised', 'Supervised', 'Unsupervised'], 'algorithm_type': ['Regression', 'Classification', 'Regression or Classification', 'Clustering']}\n"
          ],
          "name": "stdout"
        }
      ]
    },
    {
      "cell_type": "code",
      "metadata": {
        "id": "pzWrjP4m_Z_Q",
        "colab_type": "code",
        "colab": {}
      },
      "source": [
        "machine_learning['algorithm'].remove('a3c')"
      ],
      "execution_count": 0,
      "outputs": []
    },
    {
      "cell_type": "code",
      "metadata": {
        "id": "OSQxcCPZ_gm2",
        "colab_type": "code",
        "outputId": "01f6a768-e5b5-4cac-c9b8-065aeb19a49b",
        "colab": {
          "base_uri": "https://localhost:8080/",
          "height": 34
        }
      },
      "source": [
        "print(machine_learning['algorithm'])"
      ],
      "execution_count": 0,
      "outputs": [
        {
          "output_type": "stream",
          "text": [
            "['Linear Regression', 'Logistic Regression', 'RandomForest', 'k-means']\n"
          ],
          "name": "stdout"
        }
      ]
    },
    {
      "cell_type": "code",
      "metadata": {
        "id": "SNQ5fW27_jK8",
        "colab_type": "code",
        "colab": {}
      },
      "source": [
        "machine_learning['learning'].remove('Reinforcement')"
      ],
      "execution_count": 0,
      "outputs": []
    },
    {
      "cell_type": "code",
      "metadata": {
        "id": "cOrBI2wW_qMS",
        "colab_type": "code",
        "colab": {}
      },
      "source": [
        "machine_learning['algorithm_type'].remove('Game AI')"
      ],
      "execution_count": 0,
      "outputs": []
    },
    {
      "cell_type": "code",
      "metadata": {
        "id": "J80kpqB8_6RE",
        "colab_type": "code",
        "outputId": "c9201e78-8da3-4a31-e3ef-9fbd49d5f567",
        "colab": {
          "base_uri": "https://localhost:8080/",
          "height": 54
        }
      },
      "source": [
        "print(machine_learning)"
      ],
      "execution_count": 0,
      "outputs": [
        {
          "output_type": "stream",
          "text": [
            "{'algorithm': ['Linear Regression', 'Logistic Regression', 'RandomForest', 'k-means'], 'learning': ['Supervised', 'Supervised', 'Supervised', 'Unsupervised'], 'algorithm_type': ['Regression', 'Classification', 'Regression or Classification', 'Clustering']}\n"
          ],
          "name": "stdout"
        }
      ]
    }
  ]
}