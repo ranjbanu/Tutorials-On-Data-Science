{
 "cells": [
  {
   "cell_type": "code",
   "execution_count": 1,
   "metadata": {
    "colab": {},
    "colab_type": "code",
    "id": "kHxgHJ7M-USR"
   },
   "outputs": [],
   "source": [
    "from sklearn import datasets, svm, model_selection"
   ]
  },
  {
   "cell_type": "code",
   "execution_count": 2,
   "metadata": {
    "colab": {},
    "colab_type": "code",
    "id": "POj6Wyt9-jMf"
   },
   "outputs": [],
   "source": [
    "# load data\n",
    "digits = datasets.load_digits()\n",
    "\n",
    "# target\n",
    "y = digits.target\n",
    "\n",
    "# features\n",
    "X = digits.data"
   ]
  },
  {
   "cell_type": "code",
   "execution_count": 3,
   "metadata": {
    "colab": {},
    "colab_type": "code",
    "id": "REhQ33GDkyzP"
   },
   "outputs": [],
   "source": [
    "# support vector machine classifier\n",
    "clr = svm.SVC(gamma='scale')"
   ]
  },
  {
   "cell_type": "code",
   "execution_count": 4,
   "metadata": {
    "colab": {},
    "colab_type": "code",
    "id": "sqIcOIZLFQH3"
   },
   "outputs": [],
   "source": [
    "# hyperparameter grid. contains linear and polynomial kernels\n",
    "grid = [\n",
    "  {'kernel': ['linear']},\n",
    "  {'kernel': ['poly'], 'degree': [2, 3, 4]}\n",
    " ]"
   ]
  },
  {
   "cell_type": "code",
   "execution_count": 5,
   "metadata": {
    "colab": {},
    "colab_type": "code",
    "id": "_VVGUOSqLdRv"
   },
   "outputs": [],
   "source": [
    "# setting up the grid search to score on accuracy and evaluate over 10 folds\n",
    "cv_spec = model_selection.GridSearchCV(estimator=clr, param_grid=grid, scoring='accuracy', cv=10)"
   ]
  },
  {
   "cell_type": "code",
   "execution_count": 6,
   "metadata": {
    "colab": {
     "base_uri": "https://localhost:8080/",
     "height": 208
    },
    "colab_type": "code",
    "executionInfo": {
     "elapsed": 4316,
     "status": "ok",
     "timestamp": 1571314071709,
     "user": {
      "displayName": "Andrew Worsley",
      "photoUrl": "https://lh3.googleusercontent.com/a-/AAuE7mAp-Td-yKvu76Tg0Swzal8U17btuwNIXFmWVwZo=s64",
      "userId": "11337101975325054847"
     },
     "user_tz": -660
    },
    "id": "YwxAHVSelu9X",
    "outputId": "de32643b-a1db-434d-c90c-7db73e05abd2"
   },
   "outputs": [
    {
     "data": {
      "text/plain": [
       "GridSearchCV(cv=10, error_score='raise-deprecating',\n",
       "             estimator=SVC(C=1.0, cache_size=200, class_weight=None, coef0=0.0,\n",
       "                           decision_function_shape='ovr', degree=3,\n",
       "                           gamma='scale', kernel='rbf', max_iter=-1,\n",
       "                           probability=False, random_state=None, shrinking=True,\n",
       "                           tol=0.001, verbose=False),\n",
       "             iid='warn', n_jobs=None,\n",
       "             param_grid=[{'kernel': ['linear']},\n",
       "                         {'degree': [2, 3, 4], 'kernel': ['poly']}],\n",
       "             pre_dispatch='2*n_jobs', refit=True, return_train_score=False,\n",
       "             scoring='accuracy', verbose=0)"
      ]
     },
     "execution_count": 6,
     "metadata": {},
     "output_type": "execute_result"
    }
   ],
   "source": [
    "# start the grid search\n",
    "cv_spec.fit(X, y)"
   ]
  },
  {
   "cell_type": "code",
   "execution_count": 7,
   "metadata": {
    "colab": {
     "base_uri": "https://localhost:8080/",
     "height": 54
    },
    "colab_type": "code",
    "executionInfo": {
     "elapsed": 4315,
     "status": "ok",
     "timestamp": 1571314071714,
     "user": {
      "displayName": "Andrew Worsley",
      "photoUrl": "https://lh3.googleusercontent.com/a-/AAuE7mAp-Td-yKvu76Tg0Swzal8U17btuwNIXFmWVwZo=s64",
      "userId": "11337101975325054847"
     },
     "user_tz": -660
    },
    "id": "llqjhh0SPGom",
    "outputId": "04e03239-5106-40b2-a5d6-4e276ea3b2e0"
   },
   "outputs": [
    {
     "name": "stdout",
     "output_type": "stream",
     "text": [
      "dict_keys(['mean_fit_time', 'std_fit_time', 'mean_score_time', 'std_score_time', 'param_kernel', 'param_degree', 'params', 'split0_test_score', 'split1_test_score', 'split2_test_score', 'split3_test_score', 'split4_test_score', 'split5_test_score', 'split6_test_score', 'split7_test_score', 'split8_test_score', 'split9_test_score', 'mean_test_score', 'std_test_score', 'rank_test_score'])\n"
     ]
    }
   ],
   "source": [
    "# what is the available information\n",
    "print(cv_spec.cv_results_.keys())"
   ]
  },
  {
   "cell_type": "code",
   "execution_count": 8,
   "metadata": {
    "colab": {
     "base_uri": "https://localhost:8080/",
     "height": 521
    },
    "colab_type": "code",
    "executionInfo": {
     "elapsed": 4313,
     "status": "ok",
     "timestamp": 1571314071717,
     "user": {
      "displayName": "Andrew Worsley",
      "photoUrl": "https://lh3.googleusercontent.com/a-/AAuE7mAp-Td-yKvu76Tg0Swzal8U17btuwNIXFmWVwZo=s64",
      "userId": "11337101975325054847"
     },
     "user_tz": -660
    },
    "id": "e9-x48AYQqBG",
    "outputId": "085089be-8755-4d99-8a06-dc1c40259288"
   },
   "outputs": [
    {
     "data": {
      "text/plain": [
       "{'mean_fit_time': array([0.03900642, 0.04301403, 0.04386015, 0.04408669]),\n",
       " 'std_fit_time': array([0.00705976, 0.00139436, 0.00166038, 0.00150551]),\n",
       " 'mean_score_time': array([0.0048178 , 0.00622332, 0.00574203, 0.00524912]),\n",
       " 'std_score_time': array([0.00051183, 0.0003617 , 0.00042526, 0.00026829]),\n",
       " 'param_kernel': masked_array(data=['linear', 'poly', 'poly', 'poly'],\n",
       "              mask=[False, False, False, False],\n",
       "        fill_value='?',\n",
       "             dtype=object),\n",
       " 'param_degree': masked_array(data=[--, 2, 3, 4],\n",
       "              mask=[ True, False, False, False],\n",
       "        fill_value='?',\n",
       "             dtype=object),\n",
       " 'params': [{'kernel': 'linear'},\n",
       "  {'degree': 2, 'kernel': 'poly'},\n",
       "  {'degree': 3, 'kernel': 'poly'},\n",
       "  {'degree': 4, 'kernel': 'poly'}],\n",
       " 'split0_test_score': array([0.93513514, 0.95135135, 0.96216216, 0.96216216]),\n",
       " 'split1_test_score': array([0.99453552, 0.99453552, 1.        , 1.        ]),\n",
       " 'split2_test_score': array([0.9281768 , 0.91160221, 0.93370166, 0.93370166]),\n",
       " 'split3_test_score': array([0.96111111, 0.98333333, 0.98888889, 0.98888889]),\n",
       " 'split4_test_score': array([0.96089385, 0.97765363, 0.99441341, 0.98324022]),\n",
       " 'split5_test_score': array([0.98882682, 0.99441341, 0.99441341, 0.98882682]),\n",
       " 'split6_test_score': array([0.96648045, 0.98324022, 0.98882682, 0.98882682]),\n",
       " 'split7_test_score': array([0.97752809, 0.99438202, 0.99438202, 0.99438202]),\n",
       " 'split8_test_score': array([0.93220339, 0.94350282, 0.96045198, 0.94915254]),\n",
       " 'split9_test_score': array([0.96590909, 0.96022727, 0.96590909, 0.96590909]),\n",
       " 'mean_test_score': array([0.96104619, 0.96939343, 0.97829716, 0.97551475]),\n",
       " 'std_test_score': array([0.0219804 , 0.02604046, 0.02052152, 0.0206742 ]),\n",
       " 'rank_test_score': array([4, 3, 1, 2], dtype=int32)}"
      ]
     },
     "execution_count": 8,
     "metadata": {},
     "output_type": "execute_result"
    }
   ],
   "source": [
    "cv_spec.cv_results_"
   ]
  },
  {
   "cell_type": "code",
   "execution_count": 9,
   "metadata": {
    "colab": {
     "base_uri": "https://localhost:8080/",
     "height": 104
    },
    "colab_type": "code",
    "executionInfo": {
     "elapsed": 871,
     "status": "ok",
     "timestamp": 1571314246474,
     "user": {
      "displayName": "Andrew Worsley",
      "photoUrl": "https://lh3.googleusercontent.com/a-/AAuE7mAp-Td-yKvu76Tg0Swzal8U17btuwNIXFmWVwZo=s64",
      "userId": "11337101975325054847"
     },
     "user_tz": -660
    },
    "id": "YckzWb92QJt-",
    "outputId": "3eec7ca1-0318-467f-8b88-2e1128351b51"
   },
   "outputs": [
    {
     "name": "stdout",
     "output_type": "stream",
     "text": [
      "                            params  mean_test_score\n",
      "2  {'degree': 3, 'kernel': 'poly'}         0.978297\n",
      "3  {'degree': 4, 'kernel': 'poly'}         0.975515\n",
      "1  {'degree': 2, 'kernel': 'poly'}         0.969393\n",
      "0             {'kernel': 'linear'}         0.961046\n"
     ]
    }
   ],
   "source": [
    "import pandas as pd\n",
    "\n",
    "# convert the dictionary of results to a pandas dataframe\n",
    "results = pd.DataFrame(cv_spec.cv_results_)\n",
    "\n",
    "print(\n",
    "# show the hyperparameterizations\n",
    "results.loc[:,['params','mean_test_score']].sort_values('mean_test_score', ascending=False)\n",
    ")"
   ]
  },
  {
   "cell_type": "code",
   "execution_count": 11,
   "metadata": {
    "colab": {
     "base_uri": "https://localhost:8080/",
     "height": 286
    },
    "colab_type": "code",
    "executionInfo": {
     "elapsed": 878,
     "status": "ok",
     "timestamp": 1571314250998,
     "user": {
      "displayName": "Andrew Worsley",
      "photoUrl": "https://lh3.googleusercontent.com/a-/AAuE7mAp-Td-yKvu76Tg0Swzal8U17btuwNIXFmWVwZo=s64",
      "userId": "11337101975325054847"
     },
     "user_tz": -660
    },
    "id": "J941cuZKnhXO",
    "outputId": "67d7ca2b-747b-4188-a662-963fdbf50904"
   },
   "outputs": [
    {
     "data": {
      "text/plain": [
       "<matplotlib.axes._subplots.AxesSubplot at 0x1a23b017f0>"
      ]
     },
     "execution_count": 11,
     "metadata": {},
     "output_type": "execute_result"
    },
    {
     "data": {
      "image/png": "[encoded data removed]",
      "text/plain": [
       "<Figure size 432x288 with 1 Axes>"
      ]
     },
     "metadata": {
      "needs_background": "light"
     },
     "output_type": "display_data"
    }
   ],
   "source": [
    "# visualize the result\n",
    "#(\n",
    "#    results.loc[:,['params','mean_test_score']]\n",
    "#    .sort_values('mean_test_score', ascending=True)\n",
    "#    .plot.barh(x='params', xlim=(0.8))\n",
    "#)"
   ]
  }
 ],
 "metadata": {
  "colab": {
   "collapsed_sections": [],
   "name": "Exercise_8_2.ipynb",
   "provenance": []
  },
  "kernelspec": {
   "display_name": "Python 3",
   "language": "python",
   "name": "python3"
  },
  "language_info": {
   "codemirror_mode": {
    "name": "ipython",
    "version": 3
   },
   "file_extension": ".py",
   "mimetype": "text/x-python",
   "name": "python",
   "nbconvert_exporter": "python",
   "pygments_lexer": "ipython3",
   "version": "3.7.3"
  }
 },
 "nbformat": 4,
 "nbformat_minor": 1
}
