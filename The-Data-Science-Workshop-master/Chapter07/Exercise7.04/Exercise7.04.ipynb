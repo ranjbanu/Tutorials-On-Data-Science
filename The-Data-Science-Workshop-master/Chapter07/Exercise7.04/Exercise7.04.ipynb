{
 "cells": [
  {
   "cell_type": "markdown",
   "metadata": {},
   "source": [
    "# 5-Fold Cross Validation"
   ]
  },
  {
   "cell_type": "code",
   "execution_count": 1,
   "metadata": {},
   "outputs": [],
   "source": [
    "# import libraries\n",
    "import pandas as pd\n",
    "from sklearn.model_selection import train_test_split"
   ]
  },
  {
   "cell_type": "code",
   "execution_count": 2,
   "metadata": {},
   "outputs": [
    {
     "name": "stdout",
     "output_type": "stream",
     "text": [
      "<class 'pandas.core.frame.DataFrame'>\n",
      "RangeIndex: 1728 entries, 0 to 1727\n",
      "Data columns (total 7 columns):\n",
      "buying      1728 non-null object\n",
      "maint       1728 non-null object\n",
      "doors       1728 non-null object\n",
      "persons     1728 non-null object\n",
      "lug_boot    1728 non-null object\n",
      "safety      1728 non-null object\n",
      "car         1728 non-null object\n",
      "dtypes: object(7)\n",
      "memory usage: 94.6+ KB\n"
     ]
    }
   ],
   "source": [
    "# data doesn't have headers, so let's create headers\n",
    "_headers = ['buying', 'maint', 'doors', 'persons', 'lug_boot', 'safety', 'car']\n",
    "# read in cars dataset\n",
    "df = pd.read_csv('https://raw.githubusercontent.com/PacktWorkshops/The-Data-Science-Workshop/master/Chapter07/Dataset/car.data', names=_headers, index_col=None)\n",
    "df.info()"
   ]
  },
  {
   "cell_type": "code",
   "execution_count": 3,
   "metadata": {},
   "outputs": [],
   "source": [
    "#split the data into 80% for training and 20% for evaluation\n",
    "training_df, eval_df = train_test_split(df, train_size=0.8, random_state=1)"
   ]
  },
  {
   "cell_type": "code",
   "execution_count": 4,
   "metadata": {},
   "outputs": [
    {
     "data": {
      "text/html": [
       "<div>\n",
       "<style scoped>\n",
       "    .dataframe tbody tr th:only-of-type {\n",
       "        vertical-align: middle;\n",
       "    }\n",
       "\n",
       "    .dataframe tbody tr th {\n",
       "        vertical-align: top;\n",
       "    }\n",
       "\n",
       "    .dataframe thead th {\n",
       "        text-align: right;\n",
       "    }\n",
       "</style>\n",
       "<table border=\"1\" class=\"dataframe\">\n",
       "  <thead>\n",
       "    <tr style=\"text-align: right;\">\n",
       "      <th></th>\n",
       "      <th>buying</th>\n",
       "      <th>maint</th>\n",
       "      <th>doors</th>\n",
       "      <th>persons</th>\n",
       "      <th>lug_boot</th>\n",
       "      <th>safety</th>\n",
       "      <th>car</th>\n",
       "    </tr>\n",
       "  </thead>\n",
       "  <tbody>\n",
       "    <tr>\n",
       "      <td>1579</td>\n",
       "      <td>low</td>\n",
       "      <td>med</td>\n",
       "      <td>4</td>\n",
       "      <td>4</td>\n",
       "      <td>med</td>\n",
       "      <td>med</td>\n",
       "      <td>good</td>\n",
       "    </tr>\n",
       "    <tr>\n",
       "      <td>634</td>\n",
       "      <td>high</td>\n",
       "      <td>high</td>\n",
       "      <td>5more</td>\n",
       "      <td>4</td>\n",
       "      <td>med</td>\n",
       "      <td>med</td>\n",
       "      <td>acc</td>\n",
       "    </tr>\n",
       "    <tr>\n",
       "      <td>299</td>\n",
       "      <td>vhigh</td>\n",
       "      <td>med</td>\n",
       "      <td>5more</td>\n",
       "      <td>2</td>\n",
       "      <td>small</td>\n",
       "      <td>high</td>\n",
       "      <td>unacc</td>\n",
       "    </tr>\n",
       "    <tr>\n",
       "      <td>1085</td>\n",
       "      <td>med</td>\n",
       "      <td>med</td>\n",
       "      <td>2</td>\n",
       "      <td>2</td>\n",
       "      <td>med</td>\n",
       "      <td>high</td>\n",
       "      <td>unacc</td>\n",
       "    </tr>\n",
       "    <tr>\n",
       "      <td>1659</td>\n",
       "      <td>low</td>\n",
       "      <td>low</td>\n",
       "      <td>3</td>\n",
       "      <td>4</td>\n",
       "      <td>med</td>\n",
       "      <td>low</td>\n",
       "      <td>unacc</td>\n",
       "    </tr>\n",
       "  </tbody>\n",
       "</table>\n",
       "</div>"
      ],
      "text/plain": [
       "     buying maint  doors persons lug_boot safety    car\n",
       "1579    low   med      4       4      med    med   good\n",
       "634    high  high  5more       4      med    med    acc\n",
       "299   vhigh   med  5more       2    small   high  unacc\n",
       "1085    med   med      2       2      med   high  unacc\n",
       "1659    low   low      3       4      med    low  unacc"
      ]
     },
     "execution_count": 4,
     "metadata": {},
     "output_type": "execute_result"
    }
   ],
   "source": [
    "training_df.head()"
   ]
  },
  {
   "cell_type": "code",
   "execution_count": 5,
   "metadata": {},
   "outputs": [
    {
     "data": {
      "text/html": [
       "<div>\n",
       "<style scoped>\n",
       "    .dataframe tbody tr th:only-of-type {\n",
       "        vertical-align: middle;\n",
       "    }\n",
       "\n",
       "    .dataframe tbody tr th {\n",
       "        vertical-align: top;\n",
       "    }\n",
       "\n",
       "    .dataframe thead th {\n",
       "        text-align: right;\n",
       "    }\n",
       "</style>\n",
       "<table border=\"1\" class=\"dataframe\">\n",
       "  <thead>\n",
       "    <tr style=\"text-align: right;\">\n",
       "      <th></th>\n",
       "      <th>buying</th>\n",
       "      <th>maint</th>\n",
       "      <th>doors</th>\n",
       "      <th>persons</th>\n",
       "      <th>lug_boot</th>\n",
       "      <th>safety</th>\n",
       "      <th>car</th>\n",
       "    </tr>\n",
       "  </thead>\n",
       "  <tbody>\n",
       "    <tr>\n",
       "      <td>1233</td>\n",
       "      <td>med</td>\n",
       "      <td>low</td>\n",
       "      <td>3</td>\n",
       "      <td>more</td>\n",
       "      <td>small</td>\n",
       "      <td>low</td>\n",
       "      <td>unacc</td>\n",
       "    </tr>\n",
       "    <tr>\n",
       "      <td>592</td>\n",
       "      <td>high</td>\n",
       "      <td>high</td>\n",
       "      <td>3</td>\n",
       "      <td>more</td>\n",
       "      <td>big</td>\n",
       "      <td>med</td>\n",
       "      <td>acc</td>\n",
       "    </tr>\n",
       "    <tr>\n",
       "      <td>625</td>\n",
       "      <td>high</td>\n",
       "      <td>high</td>\n",
       "      <td>5more</td>\n",
       "      <td>2</td>\n",
       "      <td>med</td>\n",
       "      <td>med</td>\n",
       "      <td>unacc</td>\n",
       "    </tr>\n",
       "    <tr>\n",
       "      <td>1546</td>\n",
       "      <td>low</td>\n",
       "      <td>med</td>\n",
       "      <td>3</td>\n",
       "      <td>2</td>\n",
       "      <td>big</td>\n",
       "      <td>med</td>\n",
       "      <td>unacc</td>\n",
       "    </tr>\n",
       "    <tr>\n",
       "      <td>730</td>\n",
       "      <td>high</td>\n",
       "      <td>med</td>\n",
       "      <td>5more</td>\n",
       "      <td>2</td>\n",
       "      <td>small</td>\n",
       "      <td>med</td>\n",
       "      <td>unacc</td>\n",
       "    </tr>\n",
       "  </tbody>\n",
       "</table>\n",
       "</div>"
      ],
      "text/plain": [
       "     buying maint  doors persons lug_boot safety    car\n",
       "1233    med   low      3    more    small    low  unacc\n",
       "592    high  high      3    more      big    med    acc\n",
       "625    high  high  5more       2      med    med  unacc\n",
       "1546    low   med      3       2      big    med  unacc\n",
       "730    high   med  5more       2    small    med  unacc"
      ]
     },
     "execution_count": 5,
     "metadata": {},
     "output_type": "execute_result"
    }
   ],
   "source": [
    "eval_df.head()"
   ]
  },
  {
   "cell_type": "markdown",
   "metadata": {},
   "source": [
    "## KFold"
   ]
  },
  {
   "cell_type": "code",
   "execution_count": 6,
   "metadata": {},
   "outputs": [],
   "source": [
    "from sklearn.model_selection import KFold"
   ]
  },
  {
   "cell_type": "code",
   "execution_count": 7,
   "metadata": {},
   "outputs": [],
   "source": [
    "n_splits = 5"
   ]
  },
  {
   "cell_type": "code",
   "execution_count": 8,
   "metadata": {},
   "outputs": [],
   "source": [
    "#create an instance of KFold\n",
    "_kf = KFold(n_splits=n_splits)"
   ]
  },
  {
   "cell_type": "code",
   "execution_count": 9,
   "metadata": {},
   "outputs": [],
   "source": [
    "#create splits as _indices\n",
    "_indices = _kf.split(df)"
   ]
  },
  {
   "cell_type": "code",
   "execution_count": 10,
   "metadata": {},
   "outputs": [],
   "source": [
    "# create lists to hold training and validation DataFrames\n",
    "_t, _v = [], []"
   ]
  },
  {
   "cell_type": "code",
   "execution_count": 11,
   "metadata": {},
   "outputs": [],
   "source": [
    "#iterate over _indices\n",
    "for i in range(n_splits):\n",
    "    train_idx, val_idx = next(_indices)\n",
    "    _train_df = df.drop(val_idx)\n",
    "    _t.append(_train_df)\n",
    "    _val_df = df.drop(train_idx)\n",
    "    _v.append(_val_df)"
   ]
  },
  {
   "cell_type": "code",
   "execution_count": 12,
   "metadata": {},
   "outputs": [
    {
     "name": "stdout",
     "output_type": "stream",
     "text": [
      "<class 'pandas.core.frame.DataFrame'>\n",
      "Int64Index: 1382 entries, 346 to 1727\n",
      "Data columns (total 7 columns):\n",
      "buying      1382 non-null object\n",
      "maint       1382 non-null object\n",
      "doors       1382 non-null object\n",
      "persons     1382 non-null object\n",
      "lug_boot    1382 non-null object\n",
      "safety      1382 non-null object\n",
      "car         1382 non-null object\n",
      "dtypes: object(7)\n",
      "memory usage: 86.4+ KB\n",
      "None\n",
      "<class 'pandas.core.frame.DataFrame'>\n",
      "Int64Index: 1382 entries, 0 to 1727\n",
      "Data columns (total 7 columns):\n",
      "buying      1382 non-null object\n",
      "maint       1382 non-null object\n",
      "doors       1382 non-null object\n",
      "persons     1382 non-null object\n",
      "lug_boot    1382 non-null object\n",
      "safety      1382 non-null object\n",
      "car         1382 non-null object\n",
      "dtypes: object(7)\n",
      "memory usage: 86.4+ KB\n",
      "None\n",
      "<class 'pandas.core.frame.DataFrame'>\n",
      "Int64Index: 1382 entries, 0 to 1727\n",
      "Data columns (total 7 columns):\n",
      "buying      1382 non-null object\n",
      "maint       1382 non-null object\n",
      "doors       1382 non-null object\n",
      "persons     1382 non-null object\n",
      "lug_boot    1382 non-null object\n",
      "safety      1382 non-null object\n",
      "car         1382 non-null object\n",
      "dtypes: object(7)\n",
      "memory usage: 86.4+ KB\n",
      "None\n",
      "<class 'pandas.core.frame.DataFrame'>\n",
      "Int64Index: 1383 entries, 0 to 1727\n",
      "Data columns (total 7 columns):\n",
      "buying      1383 non-null object\n",
      "maint       1383 non-null object\n",
      "doors       1383 non-null object\n",
      "persons     1383 non-null object\n",
      "lug_boot    1383 non-null object\n",
      "safety      1383 non-null object\n",
      "car         1383 non-null object\n",
      "dtypes: object(7)\n",
      "memory usage: 86.4+ KB\n",
      "None\n",
      "<class 'pandas.core.frame.DataFrame'>\n",
      "Int64Index: 1383 entries, 0 to 1382\n",
      "Data columns (total 7 columns):\n",
      "buying      1383 non-null object\n",
      "maint       1383 non-null object\n",
      "doors       1383 non-null object\n",
      "persons     1383 non-null object\n",
      "lug_boot    1383 non-null object\n",
      "safety      1383 non-null object\n",
      "car         1383 non-null object\n",
      "dtypes: object(7)\n",
      "memory usage: 86.4+ KB\n",
      "None\n"
     ]
    }
   ],
   "source": [
    "for d in _t:\n",
    "    print(d.info())"
   ]
  },
  {
   "cell_type": "code",
   "execution_count": 13,
   "metadata": {},
   "outputs": [
    {
     "name": "stdout",
     "output_type": "stream",
     "text": [
      "<class 'pandas.core.frame.DataFrame'>\n",
      "Int64Index: 346 entries, 0 to 345\n",
      "Data columns (total 7 columns):\n",
      "buying      346 non-null object\n",
      "maint       346 non-null object\n",
      "doors       346 non-null object\n",
      "persons     346 non-null object\n",
      "lug_boot    346 non-null object\n",
      "safety      346 non-null object\n",
      "car         346 non-null object\n",
      "dtypes: object(7)\n",
      "memory usage: 21.6+ KB\n",
      "None\n",
      "<class 'pandas.core.frame.DataFrame'>\n",
      "Int64Index: 346 entries, 346 to 691\n",
      "Data columns (total 7 columns):\n",
      "buying      346 non-null object\n",
      "maint       346 non-null object\n",
      "doors       346 non-null object\n",
      "persons     346 non-null object\n",
      "lug_boot    346 non-null object\n",
      "safety      346 non-null object\n",
      "car         346 non-null object\n",
      "dtypes: object(7)\n",
      "memory usage: 21.6+ KB\n",
      "None\n",
      "<class 'pandas.core.frame.DataFrame'>\n",
      "Int64Index: 346 entries, 692 to 1037\n",
      "Data columns (total 7 columns):\n",
      "buying      346 non-null object\n",
      "maint       346 non-null object\n",
      "doors       346 non-null object\n",
      "persons     346 non-null object\n",
      "lug_boot    346 non-null object\n",
      "safety      346 non-null object\n",
      "car         346 non-null object\n",
      "dtypes: object(7)\n",
      "memory usage: 21.6+ KB\n",
      "None\n",
      "<class 'pandas.core.frame.DataFrame'>\n",
      "Int64Index: 345 entries, 1038 to 1382\n",
      "Data columns (total 7 columns):\n",
      "buying      345 non-null object\n",
      "maint       345 non-null object\n",
      "doors       345 non-null object\n",
      "persons     345 non-null object\n",
      "lug_boot    345 non-null object\n",
      "safety      345 non-null object\n",
      "car         345 non-null object\n",
      "dtypes: object(7)\n",
      "memory usage: 21.6+ KB\n",
      "None\n",
      "<class 'pandas.core.frame.DataFrame'>\n",
      "Int64Index: 345 entries, 1383 to 1727\n",
      "Data columns (total 7 columns):\n",
      "buying      345 non-null object\n",
      "maint       345 non-null object\n",
      "doors       345 non-null object\n",
      "persons     345 non-null object\n",
      "lug_boot    345 non-null object\n",
      "safety      345 non-null object\n",
      "car         345 non-null object\n",
      "dtypes: object(7)\n",
      "memory usage: 21.6+ KB\n",
      "None\n"
     ]
    }
   ],
   "source": [
    "for d in _v:\n",
    "    print(d.info())"
   ]
  },
  {
   "cell_type": "code",
   "execution_count": null,
   "metadata": {},
   "outputs": [],
   "source": []
  }
 ],
 "metadata": {
  "file_extension": ".py",
  "kernelspec": {
   "display_name": "Python 3",
   "language": "python",
   "name": "python3"
  },
  "language_info": {
   "codemirror_mode": {
    "name": "ipython",
    "version": 3
   },
   "file_extension": ".py",
   "mimetype": "text/x-python",
   "name": "python",
   "nbconvert_exporter": "python",
   "pygments_lexer": "ipython3",
   "version": "3.7.4"
  },
  "mimetype": "text/x-python",
  "name": "python",
  "npconvert_exporter": "python",
  "pygments_lexer": "ipython3",
  "version": 3
 },
 "nbformat": 4,
 "nbformat_minor": 2
}
