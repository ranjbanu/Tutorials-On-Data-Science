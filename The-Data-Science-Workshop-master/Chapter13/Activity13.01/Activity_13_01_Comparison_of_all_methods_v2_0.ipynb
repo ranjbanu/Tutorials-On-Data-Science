{
  "nbformat": 4,
  "nbformat_minor": 0,
  "metadata": {
    "colab": {
      "name": "Activity 13.01: Comparison of all methods_v2.0",
      "provenance": [],
      "collapsed_sections": []
    },
    "kernelspec": {
      "name": "python3",
      "display_name": "Python 3"
    }
  },
  "cells": [
    {
      "cell_type": "code",
      "metadata": {
        "id": "LATcua1ja8I4",
        "colab_type": "code",
        "colab": {}
      },
      "source": [
        "!pip install smote-variants"
      ],
      "execution_count": 0,
      "outputs": []
    },
    {
      "cell_type": "code",
      "metadata": {
        "id": "B4bxRZg_tqnp",
        "colab_type": "code",
        "outputId": "6974ea66-4410-4d2f-97c9-5811cf58c25c",
        "colab": {
          "base_uri": "https://localhost:8080/",
          "height": 224
        }
      },
      "source": [
        "# Loading data from the Github repository\n",
        "import pandas as pd\n",
        "filename = 'https://raw.githubusercontent.com/PacktWorkshops/The-Data-Science-Workshop/master/Chapter13/Dataset/churn.csv'\n",
        "# Loading the data using pandas\n",
        "\n",
        "churnData = pd.read_csv(filename,sep=\",\")\n",
        "churnData.head()"
      ],
      "execution_count": 3,
      "outputs": [
        {
          "output_type": "execute_result",
          "data": {
            "text/html": [
              "<div>\n",
              "<style scoped>\n",
              "    .dataframe tbody tr th:only-of-type {\n",
              "        vertical-align: middle;\n",
              "    }\n",
              "\n",
              "    .dataframe tbody tr th {\n",
              "        vertical-align: top;\n",
              "    }\n",
              "\n",
              "    .dataframe thead th {\n",
              "        text-align: right;\n",
              "    }\n",
              "</style>\n",
              "<table border=\"1\" class=\"dataframe\">\n",
              "  <thead>\n",
              "    <tr style=\"text-align: right;\">\n",
              "      <th></th>\n",
              "      <th>churn</th>\n",
              "      <th>accountlength</th>\n",
              "      <th>internationalplan</th>\n",
              "      <th>voicemailplan</th>\n",
              "      <th>numbervmailmessages</th>\n",
              "      <th>totaldayminutes</th>\n",
              "      <th>totaldaycalls</th>\n",
              "      <th>totaldaycharge</th>\n",
              "      <th>totaleveminutes</th>\n",
              "      <th>totalevecalls</th>\n",
              "      <th>totalevecharge</th>\n",
              "      <th>totalnightminutes</th>\n",
              "      <th>totalnightcalls</th>\n",
              "      <th>totalnightcharge</th>\n",
              "      <th>totalintlminutes</th>\n",
              "      <th>totalintlcalls</th>\n",
              "      <th>totalintlcharge</th>\n",
              "      <th>numbercustomerservicecalls</th>\n",
              "    </tr>\n",
              "  </thead>\n",
              "  <tbody>\n",
              "    <tr>\n",
              "      <th>0</th>\n",
              "      <td>No</td>\n",
              "      <td>128</td>\n",
              "      <td>no</td>\n",
              "      <td>yes</td>\n",
              "      <td>25</td>\n",
              "      <td>265.1</td>\n",
              "      <td>110</td>\n",
              "      <td>45.07</td>\n",
              "      <td>197.4</td>\n",
              "      <td>99</td>\n",
              "      <td>16.78</td>\n",
              "      <td>244.7</td>\n",
              "      <td>91</td>\n",
              "      <td>11.01</td>\n",
              "      <td>10.0</td>\n",
              "      <td>3</td>\n",
              "      <td>2.70</td>\n",
              "      <td>1</td>\n",
              "    </tr>\n",
              "    <tr>\n",
              "      <th>1</th>\n",
              "      <td>No</td>\n",
              "      <td>107</td>\n",
              "      <td>no</td>\n",
              "      <td>yes</td>\n",
              "      <td>26</td>\n",
              "      <td>161.6</td>\n",
              "      <td>123</td>\n",
              "      <td>27.47</td>\n",
              "      <td>195.5</td>\n",
              "      <td>103</td>\n",
              "      <td>16.62</td>\n",
              "      <td>254.4</td>\n",
              "      <td>103</td>\n",
              "      <td>11.45</td>\n",
              "      <td>13.7</td>\n",
              "      <td>3</td>\n",
              "      <td>3.70</td>\n",
              "      <td>1</td>\n",
              "    </tr>\n",
              "    <tr>\n",
              "      <th>2</th>\n",
              "      <td>No</td>\n",
              "      <td>137</td>\n",
              "      <td>no</td>\n",
              "      <td>no</td>\n",
              "      <td>0</td>\n",
              "      <td>243.4</td>\n",
              "      <td>114</td>\n",
              "      <td>41.38</td>\n",
              "      <td>121.2</td>\n",
              "      <td>110</td>\n",
              "      <td>10.30</td>\n",
              "      <td>162.6</td>\n",
              "      <td>104</td>\n",
              "      <td>7.32</td>\n",
              "      <td>12.2</td>\n",
              "      <td>5</td>\n",
              "      <td>3.29</td>\n",
              "      <td>0</td>\n",
              "    </tr>\n",
              "    <tr>\n",
              "      <th>3</th>\n",
              "      <td>No</td>\n",
              "      <td>84</td>\n",
              "      <td>yes</td>\n",
              "      <td>no</td>\n",
              "      <td>0</td>\n",
              "      <td>299.4</td>\n",
              "      <td>71</td>\n",
              "      <td>50.90</td>\n",
              "      <td>61.9</td>\n",
              "      <td>88</td>\n",
              "      <td>5.26</td>\n",
              "      <td>196.9</td>\n",
              "      <td>89</td>\n",
              "      <td>8.86</td>\n",
              "      <td>6.6</td>\n",
              "      <td>7</td>\n",
              "      <td>1.78</td>\n",
              "      <td>2</td>\n",
              "    </tr>\n",
              "    <tr>\n",
              "      <th>4</th>\n",
              "      <td>No</td>\n",
              "      <td>75</td>\n",
              "      <td>yes</td>\n",
              "      <td>no</td>\n",
              "      <td>0</td>\n",
              "      <td>166.7</td>\n",
              "      <td>113</td>\n",
              "      <td>28.34</td>\n",
              "      <td>148.3</td>\n",
              "      <td>122</td>\n",
              "      <td>12.61</td>\n",
              "      <td>186.9</td>\n",
              "      <td>121</td>\n",
              "      <td>8.41</td>\n",
              "      <td>10.1</td>\n",
              "      <td>3</td>\n",
              "      <td>2.73</td>\n",
              "      <td>3</td>\n",
              "    </tr>\n",
              "  </tbody>\n",
              "</table>\n",
              "</div>"
            ],
            "text/plain": [
              "  churn  accountlength  ... totalintlcharge numbercustomerservicecalls\n",
              "0    No            128  ...            2.70                          1\n",
              "1    No            107  ...            3.70                          1\n",
              "2    No            137  ...            3.29                          0\n",
              "3    No             84  ...            1.78                          2\n",
              "4    No             75  ...            2.73                          3\n",
              "\n",
              "[5 rows x 18 columns]"
            ]
          },
          "metadata": {
            "tags": []
          },
          "execution_count": 3
        }
      ]
    },
    {
      "cell_type": "markdown",
      "metadata": {
        "id": "3tLgOzokaNiH",
        "colab_type": "text"
      },
      "source": [
        "**Feature engineering steps**\n",
        "\n",
        "Let us now do some feature engineering to the data. First we will scale the numerical data and then convert the ordinal data to \n",
        "dummy data"
      ]
    },
    {
      "cell_type": "code",
      "metadata": {
        "id": "LjcB4SaWiKp0",
        "colab_type": "code",
        "colab": {}
      },
      "source": [
        "# Normalising data\n",
        "from sklearn import preprocessing\n",
        "\n",
        "minmaxScaler = preprocessing.MinMaxScaler()\n",
        "\n",
        "# Converting each of the columns to scaled version\n",
        "\n",
        "churnData['alScaled'] = minmaxScaler.fit_transform(churnData['accountlength'].values.reshape(-1,1))\n",
        "churnData['nvmmScaled'] = minmaxScaler.fit_transform(churnData['numbervmailmessages'].values.reshape(-1,1))\n",
        "churnData['tdmScaled'] = minmaxScaler.fit_transform(churnData['totaldayminutes'].values.reshape(-1,1))\n",
        "churnData['tdcScaled'] = minmaxScaler.fit_transform(churnData['totaldaycalls'].values.reshape(-1,1))\n",
        "churnData['tdchScaled'] = minmaxScaler.fit_transform(churnData['totaldaycharge'].values.reshape(-1,1))\n",
        "churnData['temScaled'] = minmaxScaler.fit_transform(churnData['totaleveminutes'].values.reshape(-1,1))\n",
        "churnData['tecScaled'] = minmaxScaler.fit_transform(churnData['totalevecalls'].values.reshape(-1,1))\n",
        "churnData['techScaled'] = minmaxScaler.fit_transform(churnData['totalevecharge'].values.reshape(-1,1))\n",
        "churnData['tnmScaled'] = minmaxScaler.fit_transform(churnData['totalnightminutes'].values.reshape(-1,1))\n",
        "churnData['tncScaled'] = minmaxScaler.fit_transform(churnData['totalnightcalls'].values.reshape(-1,1))\n",
        "churnData['tnchScaled'] = minmaxScaler.fit_transform(churnData['totalnightcharge'].values.reshape(-1,1))\n",
        "churnData['timScaled'] = minmaxScaler.fit_transform(churnData['totalintlminutes'].values.reshape(-1,1))\n",
        "churnData['ticScaled'] = minmaxScaler.fit_transform(churnData['totalintlcalls'].values.reshape(-1,1))\n",
        "churnData['tichScaled'] = minmaxScaler.fit_transform(churnData['totalintlcharge'].values.reshape(-1,1))\n",
        "churnData['ncscScaled'] = minmaxScaler.fit_transform(churnData['numbercustomerservicecalls'].values.reshape(-1,1))\n",
        "\n",
        "\n"
      ],
      "execution_count": 0,
      "outputs": []
    },
    {
      "cell_type": "code",
      "metadata": {
        "id": "CE1JqQ4bMPI8",
        "colab_type": "code",
        "colab": {
          "base_uri": "https://localhost:8080/",
          "height": 224
        },
        "outputId": "644d3e37-72ea-4a5b-f989-f0444248328c"
      },
      "source": [
        "# Dropping the original columns\n",
        "\n",
        "churnData.drop(['accountlength','numbervmailmessages','totaldayminutes','totaldaycalls','totaldaycharge','totaleveminutes','totalevecalls','totalevecharge','totalnightminutes','totalnightcalls','totalnightcharge','totalintlminutes','totalintlcalls','totalintlcharge','numbercustomerservicecalls'], axis=1, inplace=True)\n",
        "\n",
        "# Print the head of the data\n",
        "\n",
        "churnData.head()"
      ],
      "execution_count": 5,
      "outputs": [
        {
          "output_type": "execute_result",
          "data": {
            "text/html": [
              "<div>\n",
              "<style scoped>\n",
              "    .dataframe tbody tr th:only-of-type {\n",
              "        vertical-align: middle;\n",
              "    }\n",
              "\n",
              "    .dataframe tbody tr th {\n",
              "        vertical-align: top;\n",
              "    }\n",
              "\n",
              "    .dataframe thead th {\n",
              "        text-align: right;\n",
              "    }\n",
              "</style>\n",
              "<table border=\"1\" class=\"dataframe\">\n",
              "  <thead>\n",
              "    <tr style=\"text-align: right;\">\n",
              "      <th></th>\n",
              "      <th>churn</th>\n",
              "      <th>internationalplan</th>\n",
              "      <th>voicemailplan</th>\n",
              "      <th>alScaled</th>\n",
              "      <th>nvmmScaled</th>\n",
              "      <th>tdmScaled</th>\n",
              "      <th>tdcScaled</th>\n",
              "      <th>tdchScaled</th>\n",
              "      <th>temScaled</th>\n",
              "      <th>tecScaled</th>\n",
              "      <th>techScaled</th>\n",
              "      <th>tnmScaled</th>\n",
              "      <th>tncScaled</th>\n",
              "      <th>tnchScaled</th>\n",
              "      <th>timScaled</th>\n",
              "      <th>ticScaled</th>\n",
              "      <th>tichScaled</th>\n",
              "      <th>ncscScaled</th>\n",
              "    </tr>\n",
              "  </thead>\n",
              "  <tbody>\n",
              "    <tr>\n",
              "      <th>0</th>\n",
              "      <td>No</td>\n",
              "      <td>no</td>\n",
              "      <td>yes</td>\n",
              "      <td>0.524793</td>\n",
              "      <td>0.480769</td>\n",
              "      <td>0.754196</td>\n",
              "      <td>0.666667</td>\n",
              "      <td>0.754183</td>\n",
              "      <td>0.542755</td>\n",
              "      <td>0.582353</td>\n",
              "      <td>0.542866</td>\n",
              "      <td>0.619494</td>\n",
              "      <td>0.520000</td>\n",
              "      <td>0.619584</td>\n",
              "      <td>0.500</td>\n",
              "      <td>0.15</td>\n",
              "      <td>0.500000</td>\n",
              "      <td>0.111111</td>\n",
              "    </tr>\n",
              "    <tr>\n",
              "      <th>1</th>\n",
              "      <td>No</td>\n",
              "      <td>no</td>\n",
              "      <td>yes</td>\n",
              "      <td>0.438017</td>\n",
              "      <td>0.500000</td>\n",
              "      <td>0.459744</td>\n",
              "      <td>0.745455</td>\n",
              "      <td>0.459672</td>\n",
              "      <td>0.537531</td>\n",
              "      <td>0.605882</td>\n",
              "      <td>0.537690</td>\n",
              "      <td>0.644051</td>\n",
              "      <td>0.588571</td>\n",
              "      <td>0.644344</td>\n",
              "      <td>0.685</td>\n",
              "      <td>0.15</td>\n",
              "      <td>0.685185</td>\n",
              "      <td>0.111111</td>\n",
              "    </tr>\n",
              "    <tr>\n",
              "      <th>2</th>\n",
              "      <td>No</td>\n",
              "      <td>no</td>\n",
              "      <td>no</td>\n",
              "      <td>0.561983</td>\n",
              "      <td>0.000000</td>\n",
              "      <td>0.692461</td>\n",
              "      <td>0.690909</td>\n",
              "      <td>0.692436</td>\n",
              "      <td>0.333242</td>\n",
              "      <td>0.647059</td>\n",
              "      <td>0.333225</td>\n",
              "      <td>0.411646</td>\n",
              "      <td>0.594286</td>\n",
              "      <td>0.411930</td>\n",
              "      <td>0.610</td>\n",
              "      <td>0.25</td>\n",
              "      <td>0.609259</td>\n",
              "      <td>0.000000</td>\n",
              "    </tr>\n",
              "    <tr>\n",
              "      <th>3</th>\n",
              "      <td>No</td>\n",
              "      <td>yes</td>\n",
              "      <td>no</td>\n",
              "      <td>0.342975</td>\n",
              "      <td>0.000000</td>\n",
              "      <td>0.851778</td>\n",
              "      <td>0.430303</td>\n",
              "      <td>0.851740</td>\n",
              "      <td>0.170195</td>\n",
              "      <td>0.517647</td>\n",
              "      <td>0.170171</td>\n",
              "      <td>0.498481</td>\n",
              "      <td>0.508571</td>\n",
              "      <td>0.498593</td>\n",
              "      <td>0.330</td>\n",
              "      <td>0.35</td>\n",
              "      <td>0.329630</td>\n",
              "      <td>0.222222</td>\n",
              "    </tr>\n",
              "    <tr>\n",
              "      <th>4</th>\n",
              "      <td>No</td>\n",
              "      <td>yes</td>\n",
              "      <td>no</td>\n",
              "      <td>0.305785</td>\n",
              "      <td>0.000000</td>\n",
              "      <td>0.474253</td>\n",
              "      <td>0.684848</td>\n",
              "      <td>0.474230</td>\n",
              "      <td>0.407754</td>\n",
              "      <td>0.717647</td>\n",
              "      <td>0.407959</td>\n",
              "      <td>0.473165</td>\n",
              "      <td>0.691429</td>\n",
              "      <td>0.473270</td>\n",
              "      <td>0.505</td>\n",
              "      <td>0.15</td>\n",
              "      <td>0.505556</td>\n",
              "      <td>0.333333</td>\n",
              "    </tr>\n",
              "  </tbody>\n",
              "</table>\n",
              "</div>"
            ],
            "text/plain": [
              "  churn internationalplan voicemailplan  ...  ticScaled  tichScaled  ncscScaled\n",
              "0    No                no           yes  ...       0.15    0.500000    0.111111\n",
              "1    No                no           yes  ...       0.15    0.685185    0.111111\n",
              "2    No                no            no  ...       0.25    0.609259    0.000000\n",
              "3    No               yes            no  ...       0.35    0.329630    0.222222\n",
              "4    No               yes            no  ...       0.15    0.505556    0.333333\n",
              "\n",
              "[5 rows x 18 columns]"
            ]
          },
          "metadata": {
            "tags": []
          },
          "execution_count": 5
        }
      ]
    },
    {
      "cell_type": "code",
      "metadata": {
        "id": "8glxMnxxN8NB",
        "colab_type": "code",
        "colab": {}
      },
      "source": [
        "# Converting all the categorical variables to dummy variables\n",
        "churnCat = pd.get_dummies(churnData[['internationalplan','voicemailplan']])"
      ],
      "execution_count": 0,
      "outputs": []
    },
    {
      "cell_type": "code",
      "metadata": {
        "id": "Ge2LlC_1ePzX",
        "colab_type": "code",
        "outputId": "2158bb5d-0d14-4b27-9201-4613c474b96c",
        "colab": {
          "base_uri": "https://localhost:8080/",
          "height": 34
        }
      },
      "source": [
        "# Seperating the numerical data\n",
        "churnNum = churnData[['alScaled','nvmmScaled','tdmScaled','tdcScaled','tdchScaled','temScaled','tecScaled','techScaled','tnmScaled','tncScaled','tnchScaled','timScaled','ticScaled','tichScaled','ncscScaled']]\n",
        "churnNum.shape"
      ],
      "execution_count": 8,
      "outputs": [
        {
          "output_type": "execute_result",
          "data": {
            "text/plain": [
              "(5000, 15)"
            ]
          },
          "metadata": {
            "tags": []
          },
          "execution_count": 8
        }
      ]
    },
    {
      "cell_type": "code",
      "metadata": {
        "id": "EsT4u_jDQ7Sv",
        "colab_type": "code",
        "outputId": "349d87bb-2d13-4a88-ec6b-10fb91632aab",
        "colab": {
          "base_uri": "https://localhost:8080/",
          "height": 258
        }
      },
      "source": [
        "# Merging with the original data frame\n",
        "# Preparing the X variables\n",
        "X = pd.concat([churnCat, churnNum], axis=1)\n",
        "print(X.shape)\n",
        "# Preparing the Y variable\n",
        "Y = churnData['churn']\n",
        "print(Y.shape)\n",
        "X.head()"
      ],
      "execution_count": 9,
      "outputs": [
        {
          "output_type": "stream",
          "text": [
            "(5000, 19)\n",
            "(5000,)\n"
          ],
          "name": "stdout"
        },
        {
          "output_type": "execute_result",
          "data": {
            "text/html": [
              "<div>\n",
              "<style scoped>\n",
              "    .dataframe tbody tr th:only-of-type {\n",
              "        vertical-align: middle;\n",
              "    }\n",
              "\n",
              "    .dataframe tbody tr th {\n",
              "        vertical-align: top;\n",
              "    }\n",
              "\n",
              "    .dataframe thead th {\n",
              "        text-align: right;\n",
              "    }\n",
              "</style>\n",
              "<table border=\"1\" class=\"dataframe\">\n",
              "  <thead>\n",
              "    <tr style=\"text-align: right;\">\n",
              "      <th></th>\n",
              "      <th>internationalplan_no</th>\n",
              "      <th>internationalplan_yes</th>\n",
              "      <th>voicemailplan_no</th>\n",
              "      <th>voicemailplan_yes</th>\n",
              "      <th>alScaled</th>\n",
              "      <th>nvmmScaled</th>\n",
              "      <th>tdmScaled</th>\n",
              "      <th>tdcScaled</th>\n",
              "      <th>tdchScaled</th>\n",
              "      <th>temScaled</th>\n",
              "      <th>tecScaled</th>\n",
              "      <th>techScaled</th>\n",
              "      <th>tnmScaled</th>\n",
              "      <th>tncScaled</th>\n",
              "      <th>tnchScaled</th>\n",
              "      <th>timScaled</th>\n",
              "      <th>ticScaled</th>\n",
              "      <th>tichScaled</th>\n",
              "      <th>ncscScaled</th>\n",
              "    </tr>\n",
              "  </thead>\n",
              "  <tbody>\n",
              "    <tr>\n",
              "      <th>0</th>\n",
              "      <td>1</td>\n",
              "      <td>0</td>\n",
              "      <td>0</td>\n",
              "      <td>1</td>\n",
              "      <td>0.524793</td>\n",
              "      <td>0.480769</td>\n",
              "      <td>0.754196</td>\n",
              "      <td>0.666667</td>\n",
              "      <td>0.754183</td>\n",
              "      <td>0.542755</td>\n",
              "      <td>0.582353</td>\n",
              "      <td>0.542866</td>\n",
              "      <td>0.619494</td>\n",
              "      <td>0.520000</td>\n",
              "      <td>0.619584</td>\n",
              "      <td>0.500</td>\n",
              "      <td>0.15</td>\n",
              "      <td>0.500000</td>\n",
              "      <td>0.111111</td>\n",
              "    </tr>\n",
              "    <tr>\n",
              "      <th>1</th>\n",
              "      <td>1</td>\n",
              "      <td>0</td>\n",
              "      <td>0</td>\n",
              "      <td>1</td>\n",
              "      <td>0.438017</td>\n",
              "      <td>0.500000</td>\n",
              "      <td>0.459744</td>\n",
              "      <td>0.745455</td>\n",
              "      <td>0.459672</td>\n",
              "      <td>0.537531</td>\n",
              "      <td>0.605882</td>\n",
              "      <td>0.537690</td>\n",
              "      <td>0.644051</td>\n",
              "      <td>0.588571</td>\n",
              "      <td>0.644344</td>\n",
              "      <td>0.685</td>\n",
              "      <td>0.15</td>\n",
              "      <td>0.685185</td>\n",
              "      <td>0.111111</td>\n",
              "    </tr>\n",
              "    <tr>\n",
              "      <th>2</th>\n",
              "      <td>1</td>\n",
              "      <td>0</td>\n",
              "      <td>1</td>\n",
              "      <td>0</td>\n",
              "      <td>0.561983</td>\n",
              "      <td>0.000000</td>\n",
              "      <td>0.692461</td>\n",
              "      <td>0.690909</td>\n",
              "      <td>0.692436</td>\n",
              "      <td>0.333242</td>\n",
              "      <td>0.647059</td>\n",
              "      <td>0.333225</td>\n",
              "      <td>0.411646</td>\n",
              "      <td>0.594286</td>\n",
              "      <td>0.411930</td>\n",
              "      <td>0.610</td>\n",
              "      <td>0.25</td>\n",
              "      <td>0.609259</td>\n",
              "      <td>0.000000</td>\n",
              "    </tr>\n",
              "    <tr>\n",
              "      <th>3</th>\n",
              "      <td>0</td>\n",
              "      <td>1</td>\n",
              "      <td>1</td>\n",
              "      <td>0</td>\n",
              "      <td>0.342975</td>\n",
              "      <td>0.000000</td>\n",
              "      <td>0.851778</td>\n",
              "      <td>0.430303</td>\n",
              "      <td>0.851740</td>\n",
              "      <td>0.170195</td>\n",
              "      <td>0.517647</td>\n",
              "      <td>0.170171</td>\n",
              "      <td>0.498481</td>\n",
              "      <td>0.508571</td>\n",
              "      <td>0.498593</td>\n",
              "      <td>0.330</td>\n",
              "      <td>0.35</td>\n",
              "      <td>0.329630</td>\n",
              "      <td>0.222222</td>\n",
              "    </tr>\n",
              "    <tr>\n",
              "      <th>4</th>\n",
              "      <td>0</td>\n",
              "      <td>1</td>\n",
              "      <td>1</td>\n",
              "      <td>0</td>\n",
              "      <td>0.305785</td>\n",
              "      <td>0.000000</td>\n",
              "      <td>0.474253</td>\n",
              "      <td>0.684848</td>\n",
              "      <td>0.474230</td>\n",
              "      <td>0.407754</td>\n",
              "      <td>0.717647</td>\n",
              "      <td>0.407959</td>\n",
              "      <td>0.473165</td>\n",
              "      <td>0.691429</td>\n",
              "      <td>0.473270</td>\n",
              "      <td>0.505</td>\n",
              "      <td>0.15</td>\n",
              "      <td>0.505556</td>\n",
              "      <td>0.333333</td>\n",
              "    </tr>\n",
              "  </tbody>\n",
              "</table>\n",
              "</div>"
            ],
            "text/plain": [
              "   internationalplan_no  internationalplan_yes  ...  tichScaled  ncscScaled\n",
              "0                     1                      0  ...    0.500000    0.111111\n",
              "1                     1                      0  ...    0.685185    0.111111\n",
              "2                     1                      0  ...    0.609259    0.000000\n",
              "3                     0                      1  ...    0.329630    0.222222\n",
              "4                     0                      1  ...    0.505556    0.333333\n",
              "\n",
              "[5 rows x 19 columns]"
            ]
          },
          "metadata": {
            "tags": []
          },
          "execution_count": 9
        }
      ]
    },
    {
      "cell_type": "code",
      "metadata": {
        "id": "xb1owBPNeQ-_",
        "colab_type": "code",
        "colab": {}
      },
      "source": [
        "from sklearn.model_selection import train_test_split\n",
        "\n",
        "# Splitting the data into train and test sets\n",
        "X_train, X_test, y_train, y_test = train_test_split(X, Y, test_size=0.3, random_state=123)"
      ],
      "execution_count": 0,
      "outputs": []
    },
    {
      "cell_type": "markdown",
      "metadata": {
        "id": "WUDWDskEfUux",
        "colab_type": "text"
      },
      "source": [
        "**Undersampling Method.**\n",
        "\n",
        "\n",
        "\n",
        "\n"
      ]
    },
    {
      "cell_type": "code",
      "metadata": {
        "id": "-Q_AHv77lTwk",
        "colab_type": "code",
        "outputId": "77ecc1b8-a33e-4837-ef29-06810b17d6b1",
        "colab": {
          "base_uri": "https://localhost:8080/",
          "height": 224
        }
      },
      "source": [
        "# let us first join the train_x and train_y for ease of operation\n",
        "\n",
        "trainData = pd.concat([X_train,y_train],axis=1)\n",
        "trainData.head()"
      ],
      "execution_count": 11,
      "outputs": [
        {
          "output_type": "execute_result",
          "data": {
            "text/html": [
              "<div>\n",
              "<style scoped>\n",
              "    .dataframe tbody tr th:only-of-type {\n",
              "        vertical-align: middle;\n",
              "    }\n",
              "\n",
              "    .dataframe tbody tr th {\n",
              "        vertical-align: top;\n",
              "    }\n",
              "\n",
              "    .dataframe thead th {\n",
              "        text-align: right;\n",
              "    }\n",
              "</style>\n",
              "<table border=\"1\" class=\"dataframe\">\n",
              "  <thead>\n",
              "    <tr style=\"text-align: right;\">\n",
              "      <th></th>\n",
              "      <th>internationalplan_no</th>\n",
              "      <th>internationalplan_yes</th>\n",
              "      <th>voicemailplan_no</th>\n",
              "      <th>voicemailplan_yes</th>\n",
              "      <th>alScaled</th>\n",
              "      <th>nvmmScaled</th>\n",
              "      <th>tdmScaled</th>\n",
              "      <th>tdcScaled</th>\n",
              "      <th>tdchScaled</th>\n",
              "      <th>temScaled</th>\n",
              "      <th>tecScaled</th>\n",
              "      <th>techScaled</th>\n",
              "      <th>tnmScaled</th>\n",
              "      <th>tncScaled</th>\n",
              "      <th>tnchScaled</th>\n",
              "      <th>timScaled</th>\n",
              "      <th>ticScaled</th>\n",
              "      <th>tichScaled</th>\n",
              "      <th>ncscScaled</th>\n",
              "      <th>churn</th>\n",
              "    </tr>\n",
              "  </thead>\n",
              "  <tbody>\n",
              "    <tr>\n",
              "      <th>4036</th>\n",
              "      <td>1</td>\n",
              "      <td>0</td>\n",
              "      <td>0</td>\n",
              "      <td>1</td>\n",
              "      <td>0.256198</td>\n",
              "      <td>0.500000</td>\n",
              "      <td>0.609388</td>\n",
              "      <td>0.484848</td>\n",
              "      <td>0.609270</td>\n",
              "      <td>0.695628</td>\n",
              "      <td>0.894118</td>\n",
              "      <td>0.695891</td>\n",
              "      <td>0.395949</td>\n",
              "      <td>0.622857</td>\n",
              "      <td>0.396173</td>\n",
              "      <td>0.515</td>\n",
              "      <td>0.10</td>\n",
              "      <td>0.514815</td>\n",
              "      <td>0.222222</td>\n",
              "      <td>No</td>\n",
              "    </tr>\n",
              "    <tr>\n",
              "      <th>2883</th>\n",
              "      <td>1</td>\n",
              "      <td>0</td>\n",
              "      <td>1</td>\n",
              "      <td>0</td>\n",
              "      <td>0.504132</td>\n",
              "      <td>0.000000</td>\n",
              "      <td>0.595733</td>\n",
              "      <td>0.296970</td>\n",
              "      <td>0.595716</td>\n",
              "      <td>0.652736</td>\n",
              "      <td>0.688235</td>\n",
              "      <td>0.652863</td>\n",
              "      <td>0.605570</td>\n",
              "      <td>0.560000</td>\n",
              "      <td>0.605515</td>\n",
              "      <td>0.490</td>\n",
              "      <td>0.55</td>\n",
              "      <td>0.490741</td>\n",
              "      <td>0.111111</td>\n",
              "      <td>No</td>\n",
              "    </tr>\n",
              "    <tr>\n",
              "      <th>4162</th>\n",
              "      <td>0</td>\n",
              "      <td>1</td>\n",
              "      <td>1</td>\n",
              "      <td>0</td>\n",
              "      <td>0.012397</td>\n",
              "      <td>0.000000</td>\n",
              "      <td>0.482788</td>\n",
              "      <td>0.581818</td>\n",
              "      <td>0.482764</td>\n",
              "      <td>0.362387</td>\n",
              "      <td>0.552941</td>\n",
              "      <td>0.362342</td>\n",
              "      <td>0.620506</td>\n",
              "      <td>0.491429</td>\n",
              "      <td>0.620709</td>\n",
              "      <td>0.710</td>\n",
              "      <td>0.20</td>\n",
              "      <td>0.709259</td>\n",
              "      <td>0.000000</td>\n",
              "      <td>Yes</td>\n",
              "    </tr>\n",
              "    <tr>\n",
              "      <th>4640</th>\n",
              "      <td>1</td>\n",
              "      <td>0</td>\n",
              "      <td>1</td>\n",
              "      <td>0</td>\n",
              "      <td>0.450413</td>\n",
              "      <td>0.000000</td>\n",
              "      <td>0.714936</td>\n",
              "      <td>0.551515</td>\n",
              "      <td>0.714859</td>\n",
              "      <td>0.569700</td>\n",
              "      <td>0.558824</td>\n",
              "      <td>0.569719</td>\n",
              "      <td>0.630380</td>\n",
              "      <td>0.400000</td>\n",
              "      <td>0.630838</td>\n",
              "      <td>0.645</td>\n",
              "      <td>0.10</td>\n",
              "      <td>0.644444</td>\n",
              "      <td>0.111111</td>\n",
              "      <td>Yes</td>\n",
              "    </tr>\n",
              "    <tr>\n",
              "      <th>2430</th>\n",
              "      <td>1</td>\n",
              "      <td>0</td>\n",
              "      <td>0</td>\n",
              "      <td>1</td>\n",
              "      <td>0.491736</td>\n",
              "      <td>0.769231</td>\n",
              "      <td>0.364438</td>\n",
              "      <td>0.600000</td>\n",
              "      <td>0.364458</td>\n",
              "      <td>0.681056</td>\n",
              "      <td>0.458824</td>\n",
              "      <td>0.681009</td>\n",
              "      <td>0.505570</td>\n",
              "      <td>0.691429</td>\n",
              "      <td>0.505909</td>\n",
              "      <td>0.780</td>\n",
              "      <td>0.15</td>\n",
              "      <td>0.779630</td>\n",
              "      <td>0.000000</td>\n",
              "      <td>No</td>\n",
              "    </tr>\n",
              "  </tbody>\n",
              "</table>\n",
              "</div>"
            ],
            "text/plain": [
              "      internationalplan_no  internationalplan_yes  ...  ncscScaled  churn\n",
              "4036                     1                      0  ...    0.222222     No\n",
              "2883                     1                      0  ...    0.111111     No\n",
              "4162                     0                      1  ...    0.000000    Yes\n",
              "4640                     1                      0  ...    0.111111    Yes\n",
              "2430                     1                      0  ...    0.000000     No\n",
              "\n",
              "[5 rows x 20 columns]"
            ]
          },
          "metadata": {
            "tags": []
          },
          "execution_count": 11
        }
      ]
    },
    {
      "cell_type": "code",
      "metadata": {
        "id": "P_h-_8IpQXty",
        "colab_type": "code",
        "colab": {
          "base_uri": "https://localhost:8080/",
          "height": 34
        },
        "outputId": "306dc15e-282a-42de-a2e2-6629fe28f4dc"
      },
      "source": [
        "# Finding the indexes of the sample data set where the churn  is 'yes'\n",
        "ind = trainData[trainData['churn']=='Yes'].index\n",
        "print(len(ind))"
      ],
      "execution_count": 12,
      "outputs": [
        {
          "output_type": "stream",
          "text": [
            "490\n"
          ],
          "name": "stdout"
        }
      ]
    },
    {
      "cell_type": "code",
      "metadata": {
        "id": "n9UBl--lQdRO",
        "colab_type": "code",
        "colab": {
          "base_uri": "https://localhost:8080/",
          "height": 34
        },
        "outputId": "421fa672-5841-45d8-dd44-e94cce68bb3c"
      },
      "source": [
        "# Seperate the minority classes\n",
        "minData = trainData.loc[ind]\n",
        "print(minData.shape)"
      ],
      "execution_count": 13,
      "outputs": [
        {
          "output_type": "stream",
          "text": [
            "(490, 20)\n"
          ],
          "name": "stdout"
        }
      ]
    },
    {
      "cell_type": "code",
      "metadata": {
        "id": "vYaAAk4vQmZ6",
        "colab_type": "code",
        "colab": {
          "base_uri": "https://localhost:8080/",
          "height": 34
        },
        "outputId": "5da6809b-d2d7-4333-be55-bacd823c9734"
      },
      "source": [
        "# Finding indexes of majority class\n",
        "ind1 = trainData[trainData['churn']=='No'].index\n",
        "print(len(ind1))"
      ],
      "execution_count": 14,
      "outputs": [
        {
          "output_type": "stream",
          "text": [
            "3010\n"
          ],
          "name": "stdout"
        }
      ]
    },
    {
      "cell_type": "code",
      "metadata": {
        "id": "ykfsvEdgfTtt",
        "colab_type": "code",
        "outputId": "ee564e0f-2a4a-41fe-e8d5-07e2c17baf32",
        "colab": {
          "base_uri": "https://localhost:8080/",
          "height": 241
        }
      },
      "source": [
        "# Seperating the majority class\n",
        "majData = trainData.loc[ind1]\n",
        "print(majData.shape)\n",
        "majData.head()"
      ],
      "execution_count": 15,
      "outputs": [
        {
          "output_type": "stream",
          "text": [
            "(3010, 20)\n"
          ],
          "name": "stdout"
        },
        {
          "output_type": "execute_result",
          "data": {
            "text/html": [
              "<div>\n",
              "<style scoped>\n",
              "    .dataframe tbody tr th:only-of-type {\n",
              "        vertical-align: middle;\n",
              "    }\n",
              "\n",
              "    .dataframe tbody tr th {\n",
              "        vertical-align: top;\n",
              "    }\n",
              "\n",
              "    .dataframe thead th {\n",
              "        text-align: right;\n",
              "    }\n",
              "</style>\n",
              "<table border=\"1\" class=\"dataframe\">\n",
              "  <thead>\n",
              "    <tr style=\"text-align: right;\">\n",
              "      <th></th>\n",
              "      <th>internationalplan_no</th>\n",
              "      <th>internationalplan_yes</th>\n",
              "      <th>voicemailplan_no</th>\n",
              "      <th>voicemailplan_yes</th>\n",
              "      <th>alScaled</th>\n",
              "      <th>nvmmScaled</th>\n",
              "      <th>tdmScaled</th>\n",
              "      <th>tdcScaled</th>\n",
              "      <th>tdchScaled</th>\n",
              "      <th>temScaled</th>\n",
              "      <th>tecScaled</th>\n",
              "      <th>techScaled</th>\n",
              "      <th>tnmScaled</th>\n",
              "      <th>tncScaled</th>\n",
              "      <th>tnchScaled</th>\n",
              "      <th>timScaled</th>\n",
              "      <th>ticScaled</th>\n",
              "      <th>tichScaled</th>\n",
              "      <th>ncscScaled</th>\n",
              "      <th>churn</th>\n",
              "    </tr>\n",
              "  </thead>\n",
              "  <tbody>\n",
              "    <tr>\n",
              "      <th>4036</th>\n",
              "      <td>1</td>\n",
              "      <td>0</td>\n",
              "      <td>0</td>\n",
              "      <td>1</td>\n",
              "      <td>0.256198</td>\n",
              "      <td>0.500000</td>\n",
              "      <td>0.609388</td>\n",
              "      <td>0.484848</td>\n",
              "      <td>0.609270</td>\n",
              "      <td>0.695628</td>\n",
              "      <td>0.894118</td>\n",
              "      <td>0.695891</td>\n",
              "      <td>0.395949</td>\n",
              "      <td>0.622857</td>\n",
              "      <td>0.396173</td>\n",
              "      <td>0.515</td>\n",
              "      <td>0.10</td>\n",
              "      <td>0.514815</td>\n",
              "      <td>0.222222</td>\n",
              "      <td>No</td>\n",
              "    </tr>\n",
              "    <tr>\n",
              "      <th>2883</th>\n",
              "      <td>1</td>\n",
              "      <td>0</td>\n",
              "      <td>1</td>\n",
              "      <td>0</td>\n",
              "      <td>0.504132</td>\n",
              "      <td>0.000000</td>\n",
              "      <td>0.595733</td>\n",
              "      <td>0.296970</td>\n",
              "      <td>0.595716</td>\n",
              "      <td>0.652736</td>\n",
              "      <td>0.688235</td>\n",
              "      <td>0.652863</td>\n",
              "      <td>0.605570</td>\n",
              "      <td>0.560000</td>\n",
              "      <td>0.605515</td>\n",
              "      <td>0.490</td>\n",
              "      <td>0.55</td>\n",
              "      <td>0.490741</td>\n",
              "      <td>0.111111</td>\n",
              "      <td>No</td>\n",
              "    </tr>\n",
              "    <tr>\n",
              "      <th>2430</th>\n",
              "      <td>1</td>\n",
              "      <td>0</td>\n",
              "      <td>0</td>\n",
              "      <td>1</td>\n",
              "      <td>0.491736</td>\n",
              "      <td>0.769231</td>\n",
              "      <td>0.364438</td>\n",
              "      <td>0.600000</td>\n",
              "      <td>0.364458</td>\n",
              "      <td>0.681056</td>\n",
              "      <td>0.458824</td>\n",
              "      <td>0.681009</td>\n",
              "      <td>0.505570</td>\n",
              "      <td>0.691429</td>\n",
              "      <td>0.505909</td>\n",
              "      <td>0.780</td>\n",
              "      <td>0.15</td>\n",
              "      <td>0.779630</td>\n",
              "      <td>0.000000</td>\n",
              "      <td>No</td>\n",
              "    </tr>\n",
              "    <tr>\n",
              "      <th>449</th>\n",
              "      <td>1</td>\n",
              "      <td>0</td>\n",
              "      <td>0</td>\n",
              "      <td>1</td>\n",
              "      <td>0.322314</td>\n",
              "      <td>0.403846</td>\n",
              "      <td>0.751920</td>\n",
              "      <td>0.478788</td>\n",
              "      <td>0.751841</td>\n",
              "      <td>0.557602</td>\n",
              "      <td>0.694118</td>\n",
              "      <td>0.557748</td>\n",
              "      <td>0.438987</td>\n",
              "      <td>0.525714</td>\n",
              "      <td>0.438942</td>\n",
              "      <td>0.315</td>\n",
              "      <td>0.15</td>\n",
              "      <td>0.314815</td>\n",
              "      <td>0.444444</td>\n",
              "      <td>No</td>\n",
              "    </tr>\n",
              "    <tr>\n",
              "      <th>4179</th>\n",
              "      <td>1</td>\n",
              "      <td>0</td>\n",
              "      <td>1</td>\n",
              "      <td>0</td>\n",
              "      <td>0.578512</td>\n",
              "      <td>0.000000</td>\n",
              "      <td>0.613940</td>\n",
              "      <td>0.478788</td>\n",
              "      <td>0.613956</td>\n",
              "      <td>0.309871</td>\n",
              "      <td>0.500000</td>\n",
              "      <td>0.309932</td>\n",
              "      <td>0.561519</td>\n",
              "      <td>0.622857</td>\n",
              "      <td>0.561621</td>\n",
              "      <td>0.280</td>\n",
              "      <td>0.20</td>\n",
              "      <td>0.279630</td>\n",
              "      <td>0.222222</td>\n",
              "      <td>No</td>\n",
              "    </tr>\n",
              "  </tbody>\n",
              "</table>\n",
              "</div>"
            ],
            "text/plain": [
              "      internationalplan_no  internationalplan_yes  ...  ncscScaled  churn\n",
              "4036                     1                      0  ...    0.222222     No\n",
              "2883                     1                      0  ...    0.111111     No\n",
              "2430                     1                      0  ...    0.000000     No\n",
              "449                      1                      0  ...    0.444444     No\n",
              "4179                     1                      0  ...    0.222222     No\n",
              "\n",
              "[5 rows x 20 columns]"
            ]
          },
          "metadata": {
            "tags": []
          },
          "execution_count": 15
        }
      ]
    },
    {
      "cell_type": "code",
      "metadata": {
        "id": "f2APbvt3ovEP",
        "colab_type": "code",
        "outputId": "136f242a-8e64-46fa-f71c-bc856b29dd50",
        "colab": {
          "base_uri": "https://localhost:8080/",
          "height": 241
        }
      },
      "source": [
        "# Take a random sample equal to length of the minority class to make the data set balanced\n",
        "\n",
        "majSample = majData.sample(n=len(ind),random_state = 123)\n",
        "print(majSample.shape)\n",
        "majSample.head()\n",
        "\n"
      ],
      "execution_count": 16,
      "outputs": [
        {
          "output_type": "stream",
          "text": [
            "(490, 20)\n"
          ],
          "name": "stdout"
        },
        {
          "output_type": "execute_result",
          "data": {
            "text/html": [
              "<div>\n",
              "<style scoped>\n",
              "    .dataframe tbody tr th:only-of-type {\n",
              "        vertical-align: middle;\n",
              "    }\n",
              "\n",
              "    .dataframe tbody tr th {\n",
              "        vertical-align: top;\n",
              "    }\n",
              "\n",
              "    .dataframe thead th {\n",
              "        text-align: right;\n",
              "    }\n",
              "</style>\n",
              "<table border=\"1\" class=\"dataframe\">\n",
              "  <thead>\n",
              "    <tr style=\"text-align: right;\">\n",
              "      <th></th>\n",
              "      <th>internationalplan_no</th>\n",
              "      <th>internationalplan_yes</th>\n",
              "      <th>voicemailplan_no</th>\n",
              "      <th>voicemailplan_yes</th>\n",
              "      <th>alScaled</th>\n",
              "      <th>nvmmScaled</th>\n",
              "      <th>tdmScaled</th>\n",
              "      <th>tdcScaled</th>\n",
              "      <th>tdchScaled</th>\n",
              "      <th>temScaled</th>\n",
              "      <th>tecScaled</th>\n",
              "      <th>techScaled</th>\n",
              "      <th>tnmScaled</th>\n",
              "      <th>tncScaled</th>\n",
              "      <th>tnchScaled</th>\n",
              "      <th>timScaled</th>\n",
              "      <th>ticScaled</th>\n",
              "      <th>tichScaled</th>\n",
              "      <th>ncscScaled</th>\n",
              "      <th>churn</th>\n",
              "    </tr>\n",
              "  </thead>\n",
              "  <tbody>\n",
              "    <tr>\n",
              "      <th>1807</th>\n",
              "      <td>1</td>\n",
              "      <td>0</td>\n",
              "      <td>1</td>\n",
              "      <td>0</td>\n",
              "      <td>0.450413</td>\n",
              "      <td>0.000000</td>\n",
              "      <td>0.557895</td>\n",
              "      <td>0.624242</td>\n",
              "      <td>0.557898</td>\n",
              "      <td>0.549079</td>\n",
              "      <td>0.723529</td>\n",
              "      <td>0.549013</td>\n",
              "      <td>0.344051</td>\n",
              "      <td>0.405714</td>\n",
              "      <td>0.344401</td>\n",
              "      <td>0.645</td>\n",
              "      <td>0.05</td>\n",
              "      <td>0.644444</td>\n",
              "      <td>0.333333</td>\n",
              "      <td>No</td>\n",
              "    </tr>\n",
              "    <tr>\n",
              "      <th>4578</th>\n",
              "      <td>1</td>\n",
              "      <td>0</td>\n",
              "      <td>1</td>\n",
              "      <td>0</td>\n",
              "      <td>0.475207</td>\n",
              "      <td>0.000000</td>\n",
              "      <td>0.244097</td>\n",
              "      <td>0.533333</td>\n",
              "      <td>0.244143</td>\n",
              "      <td>0.318394</td>\n",
              "      <td>0.658824</td>\n",
              "      <td>0.318344</td>\n",
              "      <td>0.495949</td>\n",
              "      <td>0.520000</td>\n",
              "      <td>0.496342</td>\n",
              "      <td>0.550</td>\n",
              "      <td>0.10</td>\n",
              "      <td>0.550000</td>\n",
              "      <td>0.111111</td>\n",
              "      <td>No</td>\n",
              "    </tr>\n",
              "    <tr>\n",
              "      <th>355</th>\n",
              "      <td>1</td>\n",
              "      <td>0</td>\n",
              "      <td>1</td>\n",
              "      <td>0</td>\n",
              "      <td>0.123967</td>\n",
              "      <td>0.000000</td>\n",
              "      <td>0.472546</td>\n",
              "      <td>0.636364</td>\n",
              "      <td>0.472557</td>\n",
              "      <td>0.218037</td>\n",
              "      <td>0.547059</td>\n",
              "      <td>0.218052</td>\n",
              "      <td>0.541013</td>\n",
              "      <td>0.560000</td>\n",
              "      <td>0.541362</td>\n",
              "      <td>0.635</td>\n",
              "      <td>0.10</td>\n",
              "      <td>0.635185</td>\n",
              "      <td>0.111111</td>\n",
              "      <td>No</td>\n",
              "    </tr>\n",
              "    <tr>\n",
              "      <th>23</th>\n",
              "      <td>1</td>\n",
              "      <td>0</td>\n",
              "      <td>1</td>\n",
              "      <td>0</td>\n",
              "      <td>0.454545</td>\n",
              "      <td>0.000000</td>\n",
              "      <td>0.314083</td>\n",
              "      <td>0.624242</td>\n",
              "      <td>0.314090</td>\n",
              "      <td>0.377509</td>\n",
              "      <td>0.600000</td>\n",
              "      <td>0.377548</td>\n",
              "      <td>0.480000</td>\n",
              "      <td>0.600000</td>\n",
              "      <td>0.480023</td>\n",
              "      <td>0.385</td>\n",
              "      <td>0.30</td>\n",
              "      <td>0.385185</td>\n",
              "      <td>0.222222</td>\n",
              "      <td>No</td>\n",
              "    </tr>\n",
              "    <tr>\n",
              "      <th>1541</th>\n",
              "      <td>1</td>\n",
              "      <td>0</td>\n",
              "      <td>0</td>\n",
              "      <td>1</td>\n",
              "      <td>0.194215</td>\n",
              "      <td>0.692308</td>\n",
              "      <td>0.656899</td>\n",
              "      <td>0.557576</td>\n",
              "      <td>0.656794</td>\n",
              "      <td>0.460819</td>\n",
              "      <td>0.711765</td>\n",
              "      <td>0.461016</td>\n",
              "      <td>0.683544</td>\n",
              "      <td>0.497143</td>\n",
              "      <td>0.683737</td>\n",
              "      <td>0.380</td>\n",
              "      <td>0.20</td>\n",
              "      <td>0.379630</td>\n",
              "      <td>0.333333</td>\n",
              "      <td>No</td>\n",
              "    </tr>\n",
              "  </tbody>\n",
              "</table>\n",
              "</div>"
            ],
            "text/plain": [
              "      internationalplan_no  internationalplan_yes  ...  ncscScaled  churn\n",
              "1807                     1                      0  ...    0.333333     No\n",
              "4578                     1                      0  ...    0.111111     No\n",
              "355                      1                      0  ...    0.111111     No\n",
              "23                       1                      0  ...    0.222222     No\n",
              "1541                     1                      0  ...    0.333333     No\n",
              "\n",
              "[5 rows x 20 columns]"
            ]
          },
          "metadata": {
            "tags": []
          },
          "execution_count": 16
        }
      ]
    },
    {
      "cell_type": "code",
      "metadata": {
        "id": "MA2xgYOyRPGT",
        "colab_type": "code",
        "colab": {
          "base_uri": "https://localhost:8080/",
          "height": 34
        },
        "outputId": "d6dee043-86b4-4431-a74f-1ae793615b6b"
      },
      "source": [
        "# Concatenating both data sets\n",
        "\n",
        "balData = pd.concat([minData,majSample],axis = 0)\n",
        "print('balanced data set shape',balData.shape)"
      ],
      "execution_count": 17,
      "outputs": [
        {
          "output_type": "stream",
          "text": [
            "balanced data set shape (980, 20)\n"
          ],
          "name": "stdout"
        }
      ]
    },
    {
      "cell_type": "code",
      "metadata": {
        "id": "kPgQS0ZEp8qV",
        "colab_type": "code",
        "colab": {}
      },
      "source": [
        "# Shuffling the data set\n",
        "\n",
        "from sklearn.utils import shuffle\n",
        "\n",
        "balData = shuffle(balData)\n"
      ],
      "execution_count": 0,
      "outputs": []
    },
    {
      "cell_type": "code",
      "metadata": {
        "id": "tgvoKinpRmg1",
        "colab_type": "code",
        "colab": {
          "base_uri": "https://localhost:8080/",
          "height": 34
        },
        "outputId": "666b5e10-a567-40f3-e279-165353776635"
      },
      "source": [
        "# Making the new X_train and y_train\n",
        "\n",
        "X_trainNew = balData.iloc[:,0:19]\n",
        "X_trainNew.shape"
      ],
      "execution_count": 19,
      "outputs": [
        {
          "output_type": "execute_result",
          "data": {
            "text/plain": [
              "(980, 19)"
            ]
          },
          "metadata": {
            "tags": []
          },
          "execution_count": 19
        }
      ]
    },
    {
      "cell_type": "code",
      "metadata": {
        "id": "oKqn7nO8pDVX",
        "colab_type": "code",
        "outputId": "1f5258aa-cc6e-4969-d2cf-9ade980cd1d9",
        "colab": {
          "base_uri": "https://localhost:8080/",
          "height": 34
        }
      },
      "source": [
        "# Making the new y_train\n",
        "y_trainNew = balData['churn']\n",
        "y_trainNew.shape"
      ],
      "execution_count": 21,
      "outputs": [
        {
          "output_type": "execute_result",
          "data": {
            "text/plain": [
              "(980,)"
            ]
          },
          "metadata": {
            "tags": []
          },
          "execution_count": 21
        }
      ]
    },
    {
      "cell_type": "code",
      "metadata": {
        "id": "WTmAGsxSerD7",
        "colab_type": "code",
        "outputId": "a32e3d80-5612-4807-e0c2-dca461bf3242",
        "colab": {
          "base_uri": "https://localhost:8080/",
          "height": 156
        }
      },
      "source": [
        "from sklearn.linear_model import LogisticRegression\n",
        "# Defining the LogisticRegression function for Undersampling\n",
        "churnModel1 = LogisticRegression()\n",
        "churnModel1.fit(X_trainNew, y_trainNew)"
      ],
      "execution_count": 31,
      "outputs": [
        {
          "output_type": "stream",
          "text": [
            "/usr/local/lib/python3.6/dist-packages/sklearn/linear_model/logistic.py:432: FutureWarning: Default solver will be changed to 'lbfgs' in 0.22. Specify a solver to silence this warning.\n",
            "  FutureWarning)\n"
          ],
          "name": "stderr"
        },
        {
          "output_type": "execute_result",
          "data": {
            "text/plain": [
              "LogisticRegression(C=1.0, class_weight=None, dual=False, fit_intercept=True,\n",
              "                   intercept_scaling=1, l1_ratio=None, max_iter=100,\n",
              "                   multi_class='warn', n_jobs=None, penalty='l2',\n",
              "                   random_state=None, solver='warn', tol=0.0001, verbose=0,\n",
              "                   warm_start=False)"
            ]
          },
          "metadata": {
            "tags": []
          },
          "execution_count": 31
        }
      ]
    },
    {
      "cell_type": "markdown",
      "metadata": {
        "id": "tVageK142kfy",
        "colab_type": "text"
      },
      "source": [
        "**SMOTE**\n",
        "\n"
      ]
    },
    {
      "cell_type": "code",
      "metadata": {
        "id": "0S4ENukMSFcU",
        "colab_type": "code",
        "colab": {}
      },
      "source": [
        "import smote_variants as sv\n",
        "import numpy as np\n",
        "\n",
        "# Instantiating the SMOTE class\n",
        "oversampler= sv.SMOTE()"
      ],
      "execution_count": 0,
      "outputs": []
    },
    {
      "cell_type": "code",
      "metadata": {
        "id": "dFVuB-2K83QE",
        "colab_type": "code",
        "outputId": "f0b86051-dfa7-4f13-c5b0-4f644553cd8c",
        "colab": {
          "base_uri": "https://localhost:8080/",
          "height": 54
        }
      },
      "source": [
        "# Creating new training set\n",
        "\n",
        "X_train_smote, y_train_smote = oversampler.sample(np.array(X_train), np.array(y_train))\n"
      ],
      "execution_count": 24,
      "outputs": [
        {
          "output_type": "stream",
          "text": [
            "2019-11-21 09:26:31,484:INFO:SMOTE: Running sampling via ('SMOTE', \"{'proportion': 1.0, 'n_neighbors': 5, 'n_jobs': 1, 'random_state': None}\")\n"
          ],
          "name": "stderr"
        }
      ]
    },
    {
      "cell_type": "code",
      "metadata": {
        "id": "jX8q7PLjftrg",
        "colab_type": "code",
        "outputId": "ae88a4f9-6683-4d90-bac1-ec7178ba6f45",
        "colab": {
          "base_uri": "https://localhost:8080/",
          "height": 156
        }
      },
      "source": [
        "# Training the model with Logistic regression model\n",
        "\n",
        "# Defining the LogisticRegression function\n",
        "\n",
        "churnModel2 = LogisticRegression()\n",
        "\n",
        "churnModel2.fit(X_train_smote, y_train_smote)"
      ],
      "execution_count": 32,
      "outputs": [
        {
          "output_type": "stream",
          "text": [
            "/usr/local/lib/python3.6/dist-packages/sklearn/linear_model/logistic.py:432: FutureWarning: Default solver will be changed to 'lbfgs' in 0.22. Specify a solver to silence this warning.\n",
            "  FutureWarning)\n"
          ],
          "name": "stderr"
        },
        {
          "output_type": "execute_result",
          "data": {
            "text/plain": [
              "LogisticRegression(C=1.0, class_weight=None, dual=False, fit_intercept=True,\n",
              "                   intercept_scaling=1, l1_ratio=None, max_iter=100,\n",
              "                   multi_class='warn', n_jobs=None, penalty='l2',\n",
              "                   random_state=None, solver='warn', tol=0.0001, verbose=0,\n",
              "                   warm_start=False)"
            ]
          },
          "metadata": {
            "tags": []
          },
          "execution_count": 32
        }
      ]
    },
    {
      "cell_type": "markdown",
      "metadata": {
        "id": "XCpFjq2R_72o",
        "colab_type": "text"
      },
      "source": [
        "**MSMOTE**\n",
        "\n"
      ]
    },
    {
      "cell_type": "code",
      "metadata": {
        "id": "bdGFGdXXSdm6",
        "colab_type": "code",
        "colab": {}
      },
      "source": [
        "import smote_variants as sv\n",
        "import numpy as np\n",
        "# Instantiating the MSMOTE class\n",
        "oversampler= sv.MSMOTE()"
      ],
      "execution_count": 0,
      "outputs": []
    },
    {
      "cell_type": "code",
      "metadata": {
        "id": "xOr_xeTnsXlD",
        "colab_type": "code",
        "outputId": "90d51be4-78be-4a89-c2bb-868c51cd3df0",
        "colab": {
          "base_uri": "https://localhost:8080/",
          "height": 54
        }
      },
      "source": [
        "# Creating new training sets\n",
        "X_train_msmote, y_train_msmote = oversampler.sample(np.array(X_train), np.array(y_train))"
      ],
      "execution_count": 29,
      "outputs": [
        {
          "output_type": "stream",
          "text": [
            "2019-11-21 09:27:55,081:INFO:MSMOTE: Running sampling via ('MSMOTE', \"{'proportion': 1.0, 'n_neighbors': 5, 'n_jobs': 1, 'random_state': None}\")\n"
          ],
          "name": "stderr"
        }
      ]
    },
    {
      "cell_type": "code",
      "metadata": {
        "id": "DBN6YWIUgVED",
        "colab_type": "code",
        "outputId": "35967b16-a6a1-41c5-b73b-46e5551949b1",
        "colab": {
          "base_uri": "https://localhost:8080/",
          "height": 156
        }
      },
      "source": [
        "# Fitting model\n",
        "\n",
        "# Training the model with Logistic regression model\n",
        "\n",
        "# Defining the LogisticRegression function\n",
        "churnModel3 = LogisticRegression()\n",
        "churnModel3.fit(X_train_msmote, y_train_msmote)"
      ],
      "execution_count": 33,
      "outputs": [
        {
          "output_type": "stream",
          "text": [
            "/usr/local/lib/python3.6/dist-packages/sklearn/linear_model/logistic.py:432: FutureWarning: Default solver will be changed to 'lbfgs' in 0.22. Specify a solver to silence this warning.\n",
            "  FutureWarning)\n"
          ],
          "name": "stderr"
        },
        {
          "output_type": "execute_result",
          "data": {
            "text/plain": [
              "LogisticRegression(C=1.0, class_weight=None, dual=False, fit_intercept=True,\n",
              "                   intercept_scaling=1, l1_ratio=None, max_iter=100,\n",
              "                   multi_class='warn', n_jobs=None, penalty='l2',\n",
              "                   random_state=None, solver='warn', tol=0.0001, verbose=0,\n",
              "                   warm_start=False)"
            ]
          },
          "metadata": {
            "tags": []
          },
          "execution_count": 33
        }
      ]
    },
    {
      "cell_type": "markdown",
      "metadata": {
        "id": "jl-ug1Opgy_Z",
        "colab_type": "text"
      },
      "source": [
        "**Predictions with all three models**\n",
        "\n",
        "Let us create separate predictions with each model"
      ]
    },
    {
      "cell_type": "code",
      "metadata": {
        "id": "njWUrptHgxmb",
        "colab_type": "code",
        "colab": {}
      },
      "source": [
        "# Predicting using Under sampler\n",
        "pred_us = churnModel1.predict(X_test)\n",
        "\n",
        "# Predicting using SMOTE\n",
        "pred_smote = churnModel2.predict(X_test)\n",
        "\n",
        "# Predicting using MSMOTE\n",
        "pred_msmote = churnModel3.predict(X_test)\n"
      ],
      "execution_count": 0,
      "outputs": []
    },
    {
      "cell_type": "code",
      "metadata": {
        "id": "41cg5mPsijNh",
        "colab_type": "code",
        "outputId": "05393f4d-ca2b-4830-a167-d24cd97e51d8",
        "colab": {
          "base_uri": "https://localhost:8080/",
          "height": 68
        }
      },
      "source": [
        "# Printing accuracy of each model\n",
        "\n",
        "print('Accuracy of Logistic regression model prediction on test set for Random Undersampled data set: {:.2f}'.format(churnModel1.score(X_test, y_test)))\n",
        "\n",
        "print('Accuracy of Logistic regression model prediction on test set for SMOTE data set: {:.2f}'.format(churnModel2.score(X_test, y_test)))\n",
        "\n",
        "print('Accuracy of Logistic regression model prediction on test set for MSMOTE data set: {:.2f}'.format(churnModel3.score(X_test, y_test)))"
      ],
      "execution_count": 35,
      "outputs": [
        {
          "output_type": "stream",
          "text": [
            "Accuracy of Logistic regression model prediction on test set for Random Undersampled data set: 0.79\n",
            "Accuracy of Logistic regression model prediction on test set for SMOTE data set: 0.78\n",
            "Accuracy of Logistic regression model prediction on test set for MSMOTE data set: 0.80\n"
          ],
          "name": "stdout"
        }
      ]
    },
    {
      "cell_type": "code",
      "metadata": {
        "id": "vpk8snnajLMD",
        "colab_type": "code",
        "colab": {}
      },
      "source": [
        "# Confusion Matrix & Classification reports for the model\n",
        "from sklearn.metrics import confusion_matrix\n",
        "from sklearn.metrics import classification_report"
      ],
      "execution_count": 0,
      "outputs": []
    },
    {
      "cell_type": "code",
      "metadata": {
        "id": "c-_FD6bGmu4S",
        "colab_type": "code",
        "outputId": "07acbc02-7ffe-4738-ae8d-3f8403097b2b",
        "colab": {
          "base_uri": "https://localhost:8080/",
          "height": 204
        }
      },
      "source": [
        "# Metrics for Random undersample data set\n",
        "print(confusion_matrix(y_test, pred_us))\n",
        "\n",
        "print(classification_report(y_test, pred_us))"
      ],
      "execution_count": 37,
      "outputs": [
        {
          "output_type": "stream",
          "text": [
            "[[1027  256]\n",
            " [  59  158]]\n",
            "              precision    recall  f1-score   support\n",
            "\n",
            "          No       0.95      0.80      0.87      1283\n",
            "         Yes       0.38      0.73      0.50       217\n",
            "\n",
            "    accuracy                           0.79      1500\n",
            "   macro avg       0.66      0.76      0.68      1500\n",
            "weighted avg       0.86      0.79      0.81      1500\n",
            "\n"
          ],
          "name": "stdout"
        }
      ]
    },
    {
      "cell_type": "code",
      "metadata": {
        "id": "cTvkrWSzjsTN",
        "colab_type": "code",
        "outputId": "f6d67ee7-6b4e-4004-a6da-39ae3db6924d",
        "colab": {
          "base_uri": "https://localhost:8080/",
          "height": 204
        }
      },
      "source": [
        "# Metrics for SMOTE data set\n",
        "print(confusion_matrix(y_test, pred_smote))\n",
        "\n",
        "print(classification_report(y_test, pred_smote))"
      ],
      "execution_count": 38,
      "outputs": [
        {
          "output_type": "stream",
          "text": [
            "[[1002  281]\n",
            " [  52  165]]\n",
            "              precision    recall  f1-score   support\n",
            "\n",
            "          No       0.95      0.78      0.86      1283\n",
            "         Yes       0.37      0.76      0.50       217\n",
            "\n",
            "    accuracy                           0.78      1500\n",
            "   macro avg       0.66      0.77      0.68      1500\n",
            "weighted avg       0.87      0.78      0.81      1500\n",
            "\n"
          ],
          "name": "stdout"
        }
      ]
    },
    {
      "cell_type": "code",
      "metadata": {
        "id": "WvBh_sxYj5er",
        "colab_type": "code",
        "outputId": "41cba64b-3d2c-40a8-c3d5-c260ccc30737",
        "colab": {
          "base_uri": "https://localhost:8080/",
          "height": 204
        }
      },
      "source": [
        "# Metrics for MSMOTE data set\n",
        "print(confusion_matrix(y_test, pred_msmote))\n",
        "\n",
        "print(classification_report(y_test, pred_msmote))"
      ],
      "execution_count": 39,
      "outputs": [
        {
          "output_type": "stream",
          "text": [
            "[[1036  247]\n",
            " [  55  162]]\n",
            "              precision    recall  f1-score   support\n",
            "\n",
            "          No       0.95      0.81      0.87      1283\n",
            "         Yes       0.40      0.75      0.52       217\n",
            "\n",
            "    accuracy                           0.80      1500\n",
            "   macro avg       0.67      0.78      0.70      1500\n",
            "weighted avg       0.87      0.80      0.82      1500\n",
            "\n"
          ],
          "name": "stdout"
        }
      ]
    }
  ]
}